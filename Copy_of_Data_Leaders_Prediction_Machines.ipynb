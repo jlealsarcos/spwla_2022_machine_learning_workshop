{
  "nbformat": 4,
  "nbformat_minor": 0,
  "metadata": {
    "colab": {
      "name": "Copy of Data_Leaders_Prediction_Machines.ipynb",
      "provenance": [],
      "collapsed_sections": [],
      "include_colab_link": true
    },
    "kernelspec": {
      "name": "python3",
      "display_name": "Python 3"
    }
  },
  "cells": [
    {
      "cell_type": "markdown",
      "metadata": {
        "id": "view-in-github",
        "colab_type": "text"
      },
      "source": [
        "<a href=\"https://colab.research.google.com/github/jlealsarcos/spwla_2022_machine_learning_workshop/blob/main/Copy_of_Data_Leaders_Prediction_Machines.ipynb\" target=\"_parent\"><img src=\"https://colab.research.google.com/assets/colab-badge.svg\" alt=\"Open In Colab\"/></a>"
      ]
    },
    {
      "cell_type": "markdown",
      "metadata": {
        "id": "t-Qzpr2Ctw6i"
      },
      "source": [
        "\n",
        "##**Introduction to colab, ptyhon jupyter notebooks, and prediction machine for Essec Data Leaders**\n",
        "\n"
      ]
    },
    {
      "cell_type": "code",
      "source": [
        ""
      ],
      "metadata": {
        "id": "5FY2gmptAtuo"
      },
      "execution_count": null,
      "outputs": []
    },
    {
      "cell_type": "markdown",
      "metadata": {
        "id": "NAmQQhYGFf-1"
      },
      "source": [
        "##**Professor Jeroen Rombouts, ESSEC Business School, rombouts@essec.edu**"
      ]
    },
    {
      "cell_type": "markdown",
      "metadata": {
        "id": "aC-k2jr-DSAn"
      },
      "source": [
        "##**Paris apartments**\n"
      ]
    },
    {
      "cell_type": "markdown",
      "metadata": {
        "id": "0kVmaORdEr5A"
      },
      "source": [
        "Target variable: demanded sales price of Paris apartments\n",
        "\n",
        "• Measure: Price in Euro\n",
        "\n",
        "• Source: SELOGER\n",
        "\n",
        "• Sample from 2020: 8899 observations\n",
        "\n",
        "• We took out apartments more expensive than 2 million Euro and there must be one bedroom at least (no studios)\n"
      ]
    },
    {
      "cell_type": "markdown",
      "metadata": {
        "id": "gQotl5mAFzuX"
      },
      "source": [
        "The purpose is to build an elemetary prediction machine for the price of an apartment in in Paris. For ease of interpretation and attribution, we focus on a regression models."
      ]
    },
    {
      "cell_type": "markdown",
      "metadata": {
        "id": "WLRZxpNfFPCX"
      },
      "source": [
        "#**STEP 1: Importing and exploring data**\n"
      ]
    },
    {
      "cell_type": "code",
      "metadata": {
        "id": "1A13883FtH_7",
        "colab": {
          "base_uri": "https://localhost:8080/"
        },
        "outputId": "60141579-f612-442b-cae0-3678e25a4090"
      },
      "source": [
        "from google.colab import drive\n",
        "drive.mount('/content/drive')"
      ],
      "execution_count": null,
      "outputs": [
        {
          "output_type": "stream",
          "name": "stdout",
          "text": [
            "Mounted at /content/drive\n"
          ]
        }
      ]
    },
    {
      "cell_type": "markdown",
      "metadata": {
        "id": "WbERHA1PxSCu"
      },
      "source": [
        "Note that the Paris apartments data file is in comma separated value (CSV) format which makes is more portable and smaller to store than an Excel file.  For this we will use the very commonly used pandas package which converts the csv files into dataframes. Dataframes are easy to operate with and are much convenient when it comes to doing data analysis. We also import numpy and will call is np. This library allows to call many other functions such as percentiles."
      ]
    },
    {
      "cell_type": "code",
      "metadata": {
        "id": "Vh6X62MMwcVK"
      },
      "source": [
        "import pandas as pd\n",
        "import numpy as np\n",
        "\n",
        "# Assign a name for the dataframe converted from csv using pd.read_csv\n",
        "apartments=pd.read_csv('/content/drive/My Drive/selogerdata.csv') \n"
      ],
      "execution_count": null,
      "outputs": []
    },
    {
      "cell_type": "markdown",
      "metadata": {
        "id": "uVaupwZeG8Iy"
      },
      "source": [
        "To know the size of the dataset, we can use shape. We have 8899 apartments in the dataset, and 24 variables are measures for each apartment. The target variable ia the prize of the apartment, its name is \"prix\" "
      ]
    },
    {
      "cell_type": "code",
      "metadata": {
        "colab": {
          "base_uri": "https://localhost:8080/"
        },
        "id": "N9Ajzo5sGyv6",
        "outputId": "a883be84-0d93-4295-d236-a23f2099f453"
      },
      "source": [
        "apartments.shape"
      ],
      "execution_count": null,
      "outputs": [
        {
          "output_type": "execute_result",
          "data": {
            "text/plain": [
              "(8899, 24)"
            ]
          },
          "metadata": {},
          "execution_count": 4
        }
      ]
    },
    {
      "cell_type": "markdown",
      "metadata": {
        "id": "eI5qmv3KGnGt"
      },
      "source": [
        "Let us have a look at the imported dataset. The first five observations are given. Note also that Python starts counting from 0 rather than 1. That is, the frist line is line 0."
      ]
    },
    {
      "cell_type": "code",
      "metadata": {
        "colab": {
          "base_uri": "https://localhost:8080/",
          "height": 386
        },
        "id": "yclO0ZYlGrbN",
        "outputId": "047e7b20-9846-4ddf-d079-2a2c2f2eb364"
      },
      "source": [
        "apartments.head()"
      ],
      "execution_count": null,
      "outputs": [
        {
          "output_type": "execute_result",
          "data": {
            "text/plain": [
              "   number  codeinsee  codepostal     cp  etage  idagence  idannonce  idtiers  \\\n",
              "0      11     750116       75016  75016      0    178817  144013899   227883   \n",
              "1       8     750110       75010  75010      0     12089  149750677     3765   \n",
              "2       6     750118       75018  75018      0    115811  138648733   108873   \n",
              "3      16     750110       75010  75010      0     12089  149750679     3765   \n",
              "4       4     750116       75016  75016      0     97567  147153067   145098   \n",
              "\n",
              "   idtypechauffage  idtypecommerce  ... nb_photos nb_pieces  position    prix  \\\n",
              "0                0               0  ...        13         3        11   59000   \n",
              "1                0               0  ...         7         1         8   77500   \n",
              "2                0               0  ...         8         2         6   94000   \n",
              "3                0               0  ...         4         1        16   96000   \n",
              "4                0               0  ...         5         2         4  100000   \n",
              "\n",
              "   si_balcon  si_sdEau  si_sdbain  surface   typedebien         ville  \n",
              "0          1         0          0    69.00  Appartement  Paris 16√®me  \n",
              "1          0         0          0     8.49  Appartement  Paris 10√®me  \n",
              "2          0         0          0    37.00  Appartement  Paris 18√®me  \n",
              "3          0         0          0    10.26  Appartement  Paris 10√®me  \n",
              "4          0         0          0    14.93  Appartement  Paris 16√®me  \n",
              "\n",
              "[5 rows x 24 columns]"
            ],
            "text/html": [
              "\n",
              "  <div id=\"df-e006b81d-e04a-494d-a573-f205fa892f7b\">\n",
              "    <div class=\"colab-df-container\">\n",
              "      <div>\n",
              "<style scoped>\n",
              "    .dataframe tbody tr th:only-of-type {\n",
              "        vertical-align: middle;\n",
              "    }\n",
              "\n",
              "    .dataframe tbody tr th {\n",
              "        vertical-align: top;\n",
              "    }\n",
              "\n",
              "    .dataframe thead th {\n",
              "        text-align: right;\n",
              "    }\n",
              "</style>\n",
              "<table border=\"1\" class=\"dataframe\">\n",
              "  <thead>\n",
              "    <tr style=\"text-align: right;\">\n",
              "      <th></th>\n",
              "      <th>number</th>\n",
              "      <th>codeinsee</th>\n",
              "      <th>codepostal</th>\n",
              "      <th>cp</th>\n",
              "      <th>etage</th>\n",
              "      <th>idagence</th>\n",
              "      <th>idannonce</th>\n",
              "      <th>idtiers</th>\n",
              "      <th>idtypechauffage</th>\n",
              "      <th>idtypecommerce</th>\n",
              "      <th>...</th>\n",
              "      <th>nb_photos</th>\n",
              "      <th>nb_pieces</th>\n",
              "      <th>position</th>\n",
              "      <th>prix</th>\n",
              "      <th>si_balcon</th>\n",
              "      <th>si_sdEau</th>\n",
              "      <th>si_sdbain</th>\n",
              "      <th>surface</th>\n",
              "      <th>typedebien</th>\n",
              "      <th>ville</th>\n",
              "    </tr>\n",
              "  </thead>\n",
              "  <tbody>\n",
              "    <tr>\n",
              "      <th>0</th>\n",
              "      <td>11</td>\n",
              "      <td>750116</td>\n",
              "      <td>75016</td>\n",
              "      <td>75016</td>\n",
              "      <td>0</td>\n",
              "      <td>178817</td>\n",
              "      <td>144013899</td>\n",
              "      <td>227883</td>\n",
              "      <td>0</td>\n",
              "      <td>0</td>\n",
              "      <td>...</td>\n",
              "      <td>13</td>\n",
              "      <td>3</td>\n",
              "      <td>11</td>\n",
              "      <td>59000</td>\n",
              "      <td>1</td>\n",
              "      <td>0</td>\n",
              "      <td>0</td>\n",
              "      <td>69.00</td>\n",
              "      <td>Appartement</td>\n",
              "      <td>Paris 16√®me</td>\n",
              "    </tr>\n",
              "    <tr>\n",
              "      <th>1</th>\n",
              "      <td>8</td>\n",
              "      <td>750110</td>\n",
              "      <td>75010</td>\n",
              "      <td>75010</td>\n",
              "      <td>0</td>\n",
              "      <td>12089</td>\n",
              "      <td>149750677</td>\n",
              "      <td>3765</td>\n",
              "      <td>0</td>\n",
              "      <td>0</td>\n",
              "      <td>...</td>\n",
              "      <td>7</td>\n",
              "      <td>1</td>\n",
              "      <td>8</td>\n",
              "      <td>77500</td>\n",
              "      <td>0</td>\n",
              "      <td>0</td>\n",
              "      <td>0</td>\n",
              "      <td>8.49</td>\n",
              "      <td>Appartement</td>\n",
              "      <td>Paris 10√®me</td>\n",
              "    </tr>\n",
              "    <tr>\n",
              "      <th>2</th>\n",
              "      <td>6</td>\n",
              "      <td>750118</td>\n",
              "      <td>75018</td>\n",
              "      <td>75018</td>\n",
              "      <td>0</td>\n",
              "      <td>115811</td>\n",
              "      <td>138648733</td>\n",
              "      <td>108873</td>\n",
              "      <td>0</td>\n",
              "      <td>0</td>\n",
              "      <td>...</td>\n",
              "      <td>8</td>\n",
              "      <td>2</td>\n",
              "      <td>6</td>\n",
              "      <td>94000</td>\n",
              "      <td>0</td>\n",
              "      <td>0</td>\n",
              "      <td>0</td>\n",
              "      <td>37.00</td>\n",
              "      <td>Appartement</td>\n",
              "      <td>Paris 18√®me</td>\n",
              "    </tr>\n",
              "    <tr>\n",
              "      <th>3</th>\n",
              "      <td>16</td>\n",
              "      <td>750110</td>\n",
              "      <td>75010</td>\n",
              "      <td>75010</td>\n",
              "      <td>0</td>\n",
              "      <td>12089</td>\n",
              "      <td>149750679</td>\n",
              "      <td>3765</td>\n",
              "      <td>0</td>\n",
              "      <td>0</td>\n",
              "      <td>...</td>\n",
              "      <td>4</td>\n",
              "      <td>1</td>\n",
              "      <td>16</td>\n",
              "      <td>96000</td>\n",
              "      <td>0</td>\n",
              "      <td>0</td>\n",
              "      <td>0</td>\n",
              "      <td>10.26</td>\n",
              "      <td>Appartement</td>\n",
              "      <td>Paris 10√®me</td>\n",
              "    </tr>\n",
              "    <tr>\n",
              "      <th>4</th>\n",
              "      <td>4</td>\n",
              "      <td>750116</td>\n",
              "      <td>75016</td>\n",
              "      <td>75016</td>\n",
              "      <td>0</td>\n",
              "      <td>97567</td>\n",
              "      <td>147153067</td>\n",
              "      <td>145098</td>\n",
              "      <td>0</td>\n",
              "      <td>0</td>\n",
              "      <td>...</td>\n",
              "      <td>5</td>\n",
              "      <td>2</td>\n",
              "      <td>4</td>\n",
              "      <td>100000</td>\n",
              "      <td>0</td>\n",
              "      <td>0</td>\n",
              "      <td>0</td>\n",
              "      <td>14.93</td>\n",
              "      <td>Appartement</td>\n",
              "      <td>Paris 16√®me</td>\n",
              "    </tr>\n",
              "  </tbody>\n",
              "</table>\n",
              "<p>5 rows × 24 columns</p>\n",
              "</div>\n",
              "      <button class=\"colab-df-convert\" onclick=\"convertToInteractive('df-e006b81d-e04a-494d-a573-f205fa892f7b')\"\n",
              "              title=\"Convert this dataframe to an interactive table.\"\n",
              "              style=\"display:none;\">\n",
              "        \n",
              "  <svg xmlns=\"http://www.w3.org/2000/svg\" height=\"24px\"viewBox=\"0 0 24 24\"\n",
              "       width=\"24px\">\n",
              "    <path d=\"M0 0h24v24H0V0z\" fill=\"none\"/>\n",
              "    <path d=\"M18.56 5.44l.94 2.06.94-2.06 2.06-.94-2.06-.94-.94-2.06-.94 2.06-2.06.94zm-11 1L8.5 8.5l.94-2.06 2.06-.94-2.06-.94L8.5 2.5l-.94 2.06-2.06.94zm10 10l.94 2.06.94-2.06 2.06-.94-2.06-.94-.94-2.06-.94 2.06-2.06.94z\"/><path d=\"M17.41 7.96l-1.37-1.37c-.4-.4-.92-.59-1.43-.59-.52 0-1.04.2-1.43.59L10.3 9.45l-7.72 7.72c-.78.78-.78 2.05 0 2.83L4 21.41c.39.39.9.59 1.41.59.51 0 1.02-.2 1.41-.59l7.78-7.78 2.81-2.81c.8-.78.8-2.07 0-2.86zM5.41 20L4 18.59l7.72-7.72 1.47 1.35L5.41 20z\"/>\n",
              "  </svg>\n",
              "      </button>\n",
              "      \n",
              "  <style>\n",
              "    .colab-df-container {\n",
              "      display:flex;\n",
              "      flex-wrap:wrap;\n",
              "      gap: 12px;\n",
              "    }\n",
              "\n",
              "    .colab-df-convert {\n",
              "      background-color: #E8F0FE;\n",
              "      border: none;\n",
              "      border-radius: 50%;\n",
              "      cursor: pointer;\n",
              "      display: none;\n",
              "      fill: #1967D2;\n",
              "      height: 32px;\n",
              "      padding: 0 0 0 0;\n",
              "      width: 32px;\n",
              "    }\n",
              "\n",
              "    .colab-df-convert:hover {\n",
              "      background-color: #E2EBFA;\n",
              "      box-shadow: 0px 1px 2px rgba(60, 64, 67, 0.3), 0px 1px 3px 1px rgba(60, 64, 67, 0.15);\n",
              "      fill: #174EA6;\n",
              "    }\n",
              "\n",
              "    [theme=dark] .colab-df-convert {\n",
              "      background-color: #3B4455;\n",
              "      fill: #D2E3FC;\n",
              "    }\n",
              "\n",
              "    [theme=dark] .colab-df-convert:hover {\n",
              "      background-color: #434B5C;\n",
              "      box-shadow: 0px 1px 3px 1px rgba(0, 0, 0, 0.15);\n",
              "      filter: drop-shadow(0px 1px 2px rgba(0, 0, 0, 0.3));\n",
              "      fill: #FFFFFF;\n",
              "    }\n",
              "  </style>\n",
              "\n",
              "      <script>\n",
              "        const buttonEl =\n",
              "          document.querySelector('#df-e006b81d-e04a-494d-a573-f205fa892f7b button.colab-df-convert');\n",
              "        buttonEl.style.display =\n",
              "          google.colab.kernel.accessAllowed ? 'block' : 'none';\n",
              "\n",
              "        async function convertToInteractive(key) {\n",
              "          const element = document.querySelector('#df-e006b81d-e04a-494d-a573-f205fa892f7b');\n",
              "          const dataTable =\n",
              "            await google.colab.kernel.invokeFunction('convertToInteractive',\n",
              "                                                     [key], {});\n",
              "          if (!dataTable) return;\n",
              "\n",
              "          const docLinkHtml = 'Like what you see? Visit the ' +\n",
              "            '<a target=\"_blank\" href=https://colab.research.google.com/notebooks/data_table.ipynb>data table notebook</a>'\n",
              "            + ' to learn more about interactive tables.';\n",
              "          element.innerHTML = '';\n",
              "          dataTable['output_type'] = 'display_data';\n",
              "          await google.colab.output.renderOutput(dataTable, element);\n",
              "          const docLink = document.createElement('div');\n",
              "          docLink.innerHTML = docLinkHtml;\n",
              "          element.appendChild(docLink);\n",
              "        }\n",
              "      </script>\n",
              "    </div>\n",
              "  </div>\n",
              "  "
            ]
          },
          "metadata": {},
          "execution_count": 5
        }
      ]
    },
    {
      "cell_type": "markdown",
      "metadata": {
        "id": "ef3fNx3zIE5P"
      },
      "source": [
        "We define the variable prize to be the variable prix in the dataset"
      ]
    },
    {
      "cell_type": "code",
      "metadata": {
        "id": "PXD5YarpIM96"
      },
      "source": [
        "price=apartments['prix']"
      ],
      "execution_count": null,
      "outputs": []
    },
    {
      "cell_type": "markdown",
      "metadata": {
        "id": "dSb2akz9zYu7"
      },
      "source": [
        "Let us do some standard descriptive statistics for the target variable"
      ]
    },
    {
      "cell_type": "code",
      "metadata": {
        "id": "SseItYysx75-",
        "colab": {
          "base_uri": "https://localhost:8080/"
        },
        "outputId": "fed473b1-1676-419c-9975-73be292dbc1d"
      },
      "source": [
        "apartments['prix'].mean()"
      ],
      "execution_count": null,
      "outputs": [
        {
          "output_type": "execute_result",
          "data": {
            "text/plain": [
              "1210578.988538038"
            ]
          },
          "metadata": {},
          "execution_count": 8
        }
      ]
    },
    {
      "cell_type": "markdown",
      "metadata": {
        "id": "DiIeR8kfIYk_"
      },
      "source": [
        "Rather than using the apartments['prix'] prize variable it is easier to us price"
      ]
    },
    {
      "cell_type": "code",
      "metadata": {
        "colab": {
          "base_uri": "https://localhost:8080/"
        },
        "id": "7nRE95RyISuq",
        "outputId": "4147465b-1dd7-467e-e539-16fedf2cfe5f"
      },
      "source": [
        "price.mean()"
      ],
      "execution_count": null,
      "outputs": [
        {
          "output_type": "execute_result",
          "data": {
            "text/plain": [
              "1210578.988538038"
            ]
          },
          "metadata": {},
          "execution_count": 9
        }
      ]
    },
    {
      "cell_type": "code",
      "metadata": {
        "id": "xZlQSUe6zLVp",
        "colab": {
          "base_uri": "https://localhost:8080/"
        },
        "outputId": "bd1e6271-414a-409f-e420-3dc320ff86c6"
      },
      "source": [
        "price.median()\n"
      ],
      "execution_count": null,
      "outputs": [
        {
          "output_type": "execute_result",
          "data": {
            "text/plain": [
              "1475000.0"
            ]
          },
          "metadata": {},
          "execution_count": 10
        }
      ]
    },
    {
      "cell_type": "code",
      "metadata": {
        "id": "IZy-QNR_zMr2",
        "colab": {
          "base_uri": "https://localhost:8080/"
        },
        "outputId": "738162a0-6979-4865-edcd-b3c5ff1b80e5"
      },
      "source": [
        "price.std()\n"
      ],
      "execution_count": null,
      "outputs": [
        {
          "output_type": "execute_result",
          "data": {
            "text/plain": [
              "446292.2704384412"
            ]
          },
          "metadata": {},
          "execution_count": 11
        }
      ]
    },
    {
      "cell_type": "code",
      "metadata": {
        "id": "61ei9hSgzNyh",
        "colab": {
          "base_uri": "https://localhost:8080/"
        },
        "outputId": "a1a9c878-b230-4806-f0cd-9c1d8ed37d07"
      },
      "source": [
        "price.min()\n"
      ],
      "execution_count": null,
      "outputs": [
        {
          "output_type": "execute_result",
          "data": {
            "text/plain": [
              "59000"
            ]
          },
          "metadata": {},
          "execution_count": 12
        }
      ]
    },
    {
      "cell_type": "code",
      "metadata": {
        "id": "aHzDKO0uzPQr",
        "colab": {
          "base_uri": "https://localhost:8080/"
        },
        "outputId": "7b07116e-a668-4fc0-82a1-3535e32b38ce"
      },
      "source": [
        "price.max()"
      ],
      "execution_count": null,
      "outputs": [
        {
          "output_type": "execute_result",
          "data": {
            "text/plain": [
              "2000000"
            ]
          },
          "metadata": {},
          "execution_count": 13
        }
      ]
    },
    {
      "cell_type": "markdown",
      "metadata": {
        "id": "yLcLZ-rrzeqY"
      },
      "source": [
        "Doing descriptive statistics one by one is too slow if you have many variables to analyze. So we can build our own function."
      ]
    },
    {
      "cell_type": "code",
      "metadata": {
        "id": "CbqRti-_zwzR"
      },
      "source": [
        "def Info(x): # we define a function using the keyword 'def function_name(parameter):'\n",
        "    meanx = x.mean()\n",
        "    stddevx = x.std()\n",
        "    medianx = x.median()\n",
        "    minx = x.min()\n",
        "    maxx = x.max()\n",
        "\n",
        "    print(\"Average: \")\n",
        "    print(meanx)\n",
        "    print(\"Median: \")\n",
        "    print(medianx)\n",
        "    print(\"Standard deviation: \")\n",
        "    print(stddevx) \n",
        "    print(\"Min: \")\n",
        "    print(minx) \n",
        "    print(\"Max: \")\n",
        "    print(maxx) \n"
      ],
      "execution_count": null,
      "outputs": []
    },
    {
      "cell_type": "markdown",
      "metadata": {
        "id": "q2lQ5ZxdIxSw"
      },
      "source": [
        "Now the funciton Info(x) exists, we can call if for any variable x we wish"
      ]
    },
    {
      "cell_type": "code",
      "metadata": {
        "id": "VWZ9Dmgy0Wts",
        "colab": {
          "base_uri": "https://localhost:8080/"
        },
        "outputId": "a382827c-8c22-486c-ab51-04619ad494f3"
      },
      "source": [
        "Info(price)"
      ],
      "execution_count": null,
      "outputs": [
        {
          "output_type": "stream",
          "name": "stdout",
          "text": [
            "Average: \n",
            "1210578.988538038\n",
            "Median: \n",
            "1475000.0\n",
            "Standard deviation: \n",
            "446292.2704384412\n",
            "Min: \n",
            "59000\n",
            "Max: \n",
            "2000000\n"
          ]
        }
      ]
    },
    {
      "cell_type": "markdown",
      "metadata": {
        "id": "aREAtgsk43oK"
      },
      "source": [
        "Even easier than building our own descriptive statistics function, we can call the inbuilt decribe function"
      ]
    },
    {
      "cell_type": "code",
      "metadata": {
        "id": "ys0w1GJo3409",
        "colab": {
          "base_uri": "https://localhost:8080/"
        },
        "outputId": "8213e37a-bb55-4d35-edb4-8b938b62514f"
      },
      "source": [
        "price.describe(include='all')"
      ],
      "execution_count": null,
      "outputs": [
        {
          "output_type": "execute_result",
          "data": {
            "text/plain": [
              "count    8.899000e+03\n",
              "mean     1.210579e+06\n",
              "std      4.462923e+05\n",
              "min      5.900000e+04\n",
              "25%      7.950000e+05\n",
              "50%      1.475000e+06\n",
              "75%      1.490000e+06\n",
              "max      2.000000e+06\n",
              "Name: prix, dtype: float64"
            ]
          },
          "metadata": {},
          "execution_count": 16
        }
      ]
    },
    {
      "cell_type": "markdown",
      "metadata": {
        "id": "JiFkCP93J9EB"
      },
      "source": [
        "\n",
        "\n",
        "To compute percentiles, we will use a library called numerical python or numpy. \n"
      ]
    },
    {
      "cell_type": "code",
      "metadata": {
        "id": "BSHnpf7u6WfT",
        "colab": {
          "base_uri": "https://localhost:8080/"
        },
        "outputId": "45722272-7331-4d61-ac77-e92f0948e780"
      },
      "source": [
        "np.percentile(price, 10)\n"
      ],
      "execution_count": null,
      "outputs": [
        {
          "output_type": "execute_result",
          "data": {
            "text/plain": [
              "494800.00000000006"
            ]
          },
          "metadata": {},
          "execution_count": 17
        }
      ]
    },
    {
      "cell_type": "code",
      "metadata": {
        "colab": {
          "base_uri": "https://localhost:8080/",
          "height": 505
        },
        "id": "s8D1HSGhL2mh",
        "outputId": "b5ae2a8f-1123-40c1-ef96-424d226e5dc5"
      },
      "source": [
        "apartments.describe(include='all')"
      ],
      "execution_count": null,
      "outputs": [
        {
          "output_type": "execute_result",
          "data": {
            "text/plain": [
              "             number      codeinsee    codepostal            cp   etage  \\\n",
              "count   8899.000000    8899.000000   8899.000000   8899.000000  8899.0   \n",
              "unique          NaN            NaN           NaN           NaN     NaN   \n",
              "top             NaN            NaN           NaN           NaN     NaN   \n",
              "freq            NaN            NaN           NaN           NaN     NaN   \n",
              "mean       9.531296  751745.680189  75186.144735  75186.144735     0.0   \n",
              "std        5.765614   16287.896954   1660.091189   1660.091189     0.0   \n",
              "min        0.000000  750101.000000  75001.000000  75001.000000     0.0   \n",
              "25%        5.000000  750108.000000  75008.000000  75008.000000     0.0   \n",
              "50%       10.000000  750114.000000  75014.000000  75014.000000     0.0   \n",
              "75%       15.000000  750116.000000  75017.000000  75017.000000     0.0   \n",
              "max       19.000000  950500.000000  95880.000000  95880.000000     0.0   \n",
              "\n",
              "             idagence     idannonce        idtiers  idtypechauffage  \\\n",
              "count     8899.000000  8.899000e+03    8899.000000           8899.0   \n",
              "unique            NaN           NaN            NaN              NaN   \n",
              "top               NaN           NaN            NaN              NaN   \n",
              "freq              NaN           NaN            NaN              NaN   \n",
              "mean    124110.094280  1.473531e+08  136989.252500              0.0   \n",
              "std     104338.907661  3.661055e+06  109732.960794              0.0   \n",
              "min         33.000000  7.437284e+07      98.000000              0.0   \n",
              "25%      39738.000000  1.463174e+08   26516.000000              0.0   \n",
              "50%      93920.000000  1.486361e+08  123925.000000              0.0   \n",
              "75%     203657.000000  1.495161e+08  213489.000000              0.0   \n",
              "max     362103.000000  1.502498e+08  425123.000000              0.0   \n",
              "\n",
              "        idtypecommerce  ...    nb_photos    nb_pieces     position  \\\n",
              "count           8899.0  ...  8899.000000  8899.000000  8899.000000   \n",
              "unique             NaN  ...          NaN          NaN          NaN   \n",
              "top                NaN  ...          NaN          NaN          NaN   \n",
              "freq               NaN  ...          NaN          NaN          NaN   \n",
              "mean               0.0  ...     9.697269     3.838746     9.531296   \n",
              "std                0.0  ...     4.511174     1.483164     5.765614   \n",
              "min                0.0  ...     0.000000     1.000000     0.000000   \n",
              "25%                0.0  ...     6.000000     3.000000     5.000000   \n",
              "50%                0.0  ...     9.000000     4.000000    10.000000   \n",
              "75%                0.0  ...    12.000000     5.000000    15.000000   \n",
              "max                0.0  ...    27.000000    53.000000    19.000000   \n",
              "\n",
              "                prix    si_balcon  si_sdEau  si_sdbain      surface  \\\n",
              "count   8.899000e+03  8899.000000    8899.0     8899.0  8899.000000   \n",
              "unique           NaN          NaN       NaN        NaN          NaN   \n",
              "top              NaN          NaN       NaN        NaN          NaN   \n",
              "freq             NaN          NaN       NaN        NaN          NaN   \n",
              "mean    1.210579e+06     0.271716       0.0        0.0    96.070707   \n",
              "std     4.462923e+05     0.444869       0.0        0.0    38.127731   \n",
              "min     5.900000e+04     0.000000       0.0        0.0     0.000000   \n",
              "25%     7.950000e+05     0.000000       0.0        0.0    66.400000   \n",
              "50%     1.475000e+06     0.000000       0.0        0.0    93.000000   \n",
              "75%     1.490000e+06     1.000000       0.0        0.0   129.000000   \n",
              "max     2.000000e+06     1.000000       0.0        0.0   250.000000   \n",
              "\n",
              "         typedebien         ville  \n",
              "count          8899          8899  \n",
              "unique            2           112  \n",
              "top     Appartement  Paris 16√®me  \n",
              "freq           8853          1918  \n",
              "mean            NaN           NaN  \n",
              "std             NaN           NaN  \n",
              "min             NaN           NaN  \n",
              "25%             NaN           NaN  \n",
              "50%             NaN           NaN  \n",
              "75%             NaN           NaN  \n",
              "max             NaN           NaN  \n",
              "\n",
              "[11 rows x 24 columns]"
            ],
            "text/html": [
              "\n",
              "  <div id=\"df-345835bd-0f33-4421-990b-85869fd0fc95\">\n",
              "    <div class=\"colab-df-container\">\n",
              "      <div>\n",
              "<style scoped>\n",
              "    .dataframe tbody tr th:only-of-type {\n",
              "        vertical-align: middle;\n",
              "    }\n",
              "\n",
              "    .dataframe tbody tr th {\n",
              "        vertical-align: top;\n",
              "    }\n",
              "\n",
              "    .dataframe thead th {\n",
              "        text-align: right;\n",
              "    }\n",
              "</style>\n",
              "<table border=\"1\" class=\"dataframe\">\n",
              "  <thead>\n",
              "    <tr style=\"text-align: right;\">\n",
              "      <th></th>\n",
              "      <th>number</th>\n",
              "      <th>codeinsee</th>\n",
              "      <th>codepostal</th>\n",
              "      <th>cp</th>\n",
              "      <th>etage</th>\n",
              "      <th>idagence</th>\n",
              "      <th>idannonce</th>\n",
              "      <th>idtiers</th>\n",
              "      <th>idtypechauffage</th>\n",
              "      <th>idtypecommerce</th>\n",
              "      <th>...</th>\n",
              "      <th>nb_photos</th>\n",
              "      <th>nb_pieces</th>\n",
              "      <th>position</th>\n",
              "      <th>prix</th>\n",
              "      <th>si_balcon</th>\n",
              "      <th>si_sdEau</th>\n",
              "      <th>si_sdbain</th>\n",
              "      <th>surface</th>\n",
              "      <th>typedebien</th>\n",
              "      <th>ville</th>\n",
              "    </tr>\n",
              "  </thead>\n",
              "  <tbody>\n",
              "    <tr>\n",
              "      <th>count</th>\n",
              "      <td>8899.000000</td>\n",
              "      <td>8899.000000</td>\n",
              "      <td>8899.000000</td>\n",
              "      <td>8899.000000</td>\n",
              "      <td>8899.0</td>\n",
              "      <td>8899.000000</td>\n",
              "      <td>8.899000e+03</td>\n",
              "      <td>8899.000000</td>\n",
              "      <td>8899.0</td>\n",
              "      <td>8899.0</td>\n",
              "      <td>...</td>\n",
              "      <td>8899.000000</td>\n",
              "      <td>8899.000000</td>\n",
              "      <td>8899.000000</td>\n",
              "      <td>8.899000e+03</td>\n",
              "      <td>8899.000000</td>\n",
              "      <td>8899.0</td>\n",
              "      <td>8899.0</td>\n",
              "      <td>8899.000000</td>\n",
              "      <td>8899</td>\n",
              "      <td>8899</td>\n",
              "    </tr>\n",
              "    <tr>\n",
              "      <th>unique</th>\n",
              "      <td>NaN</td>\n",
              "      <td>NaN</td>\n",
              "      <td>NaN</td>\n",
              "      <td>NaN</td>\n",
              "      <td>NaN</td>\n",
              "      <td>NaN</td>\n",
              "      <td>NaN</td>\n",
              "      <td>NaN</td>\n",
              "      <td>NaN</td>\n",
              "      <td>NaN</td>\n",
              "      <td>...</td>\n",
              "      <td>NaN</td>\n",
              "      <td>NaN</td>\n",
              "      <td>NaN</td>\n",
              "      <td>NaN</td>\n",
              "      <td>NaN</td>\n",
              "      <td>NaN</td>\n",
              "      <td>NaN</td>\n",
              "      <td>NaN</td>\n",
              "      <td>2</td>\n",
              "      <td>112</td>\n",
              "    </tr>\n",
              "    <tr>\n",
              "      <th>top</th>\n",
              "      <td>NaN</td>\n",
              "      <td>NaN</td>\n",
              "      <td>NaN</td>\n",
              "      <td>NaN</td>\n",
              "      <td>NaN</td>\n",
              "      <td>NaN</td>\n",
              "      <td>NaN</td>\n",
              "      <td>NaN</td>\n",
              "      <td>NaN</td>\n",
              "      <td>NaN</td>\n",
              "      <td>...</td>\n",
              "      <td>NaN</td>\n",
              "      <td>NaN</td>\n",
              "      <td>NaN</td>\n",
              "      <td>NaN</td>\n",
              "      <td>NaN</td>\n",
              "      <td>NaN</td>\n",
              "      <td>NaN</td>\n",
              "      <td>NaN</td>\n",
              "      <td>Appartement</td>\n",
              "      <td>Paris 16√®me</td>\n",
              "    </tr>\n",
              "    <tr>\n",
              "      <th>freq</th>\n",
              "      <td>NaN</td>\n",
              "      <td>NaN</td>\n",
              "      <td>NaN</td>\n",
              "      <td>NaN</td>\n",
              "      <td>NaN</td>\n",
              "      <td>NaN</td>\n",
              "      <td>NaN</td>\n",
              "      <td>NaN</td>\n",
              "      <td>NaN</td>\n",
              "      <td>NaN</td>\n",
              "      <td>...</td>\n",
              "      <td>NaN</td>\n",
              "      <td>NaN</td>\n",
              "      <td>NaN</td>\n",
              "      <td>NaN</td>\n",
              "      <td>NaN</td>\n",
              "      <td>NaN</td>\n",
              "      <td>NaN</td>\n",
              "      <td>NaN</td>\n",
              "      <td>8853</td>\n",
              "      <td>1918</td>\n",
              "    </tr>\n",
              "    <tr>\n",
              "      <th>mean</th>\n",
              "      <td>9.531296</td>\n",
              "      <td>751745.680189</td>\n",
              "      <td>75186.144735</td>\n",
              "      <td>75186.144735</td>\n",
              "      <td>0.0</td>\n",
              "      <td>124110.094280</td>\n",
              "      <td>1.473531e+08</td>\n",
              "      <td>136989.252500</td>\n",
              "      <td>0.0</td>\n",
              "      <td>0.0</td>\n",
              "      <td>...</td>\n",
              "      <td>9.697269</td>\n",
              "      <td>3.838746</td>\n",
              "      <td>9.531296</td>\n",
              "      <td>1.210579e+06</td>\n",
              "      <td>0.271716</td>\n",
              "      <td>0.0</td>\n",
              "      <td>0.0</td>\n",
              "      <td>96.070707</td>\n",
              "      <td>NaN</td>\n",
              "      <td>NaN</td>\n",
              "    </tr>\n",
              "    <tr>\n",
              "      <th>std</th>\n",
              "      <td>5.765614</td>\n",
              "      <td>16287.896954</td>\n",
              "      <td>1660.091189</td>\n",
              "      <td>1660.091189</td>\n",
              "      <td>0.0</td>\n",
              "      <td>104338.907661</td>\n",
              "      <td>3.661055e+06</td>\n",
              "      <td>109732.960794</td>\n",
              "      <td>0.0</td>\n",
              "      <td>0.0</td>\n",
              "      <td>...</td>\n",
              "      <td>4.511174</td>\n",
              "      <td>1.483164</td>\n",
              "      <td>5.765614</td>\n",
              "      <td>4.462923e+05</td>\n",
              "      <td>0.444869</td>\n",
              "      <td>0.0</td>\n",
              "      <td>0.0</td>\n",
              "      <td>38.127731</td>\n",
              "      <td>NaN</td>\n",
              "      <td>NaN</td>\n",
              "    </tr>\n",
              "    <tr>\n",
              "      <th>min</th>\n",
              "      <td>0.000000</td>\n",
              "      <td>750101.000000</td>\n",
              "      <td>75001.000000</td>\n",
              "      <td>75001.000000</td>\n",
              "      <td>0.0</td>\n",
              "      <td>33.000000</td>\n",
              "      <td>7.437284e+07</td>\n",
              "      <td>98.000000</td>\n",
              "      <td>0.0</td>\n",
              "      <td>0.0</td>\n",
              "      <td>...</td>\n",
              "      <td>0.000000</td>\n",
              "      <td>1.000000</td>\n",
              "      <td>0.000000</td>\n",
              "      <td>5.900000e+04</td>\n",
              "      <td>0.000000</td>\n",
              "      <td>0.0</td>\n",
              "      <td>0.0</td>\n",
              "      <td>0.000000</td>\n",
              "      <td>NaN</td>\n",
              "      <td>NaN</td>\n",
              "    </tr>\n",
              "    <tr>\n",
              "      <th>25%</th>\n",
              "      <td>5.000000</td>\n",
              "      <td>750108.000000</td>\n",
              "      <td>75008.000000</td>\n",
              "      <td>75008.000000</td>\n",
              "      <td>0.0</td>\n",
              "      <td>39738.000000</td>\n",
              "      <td>1.463174e+08</td>\n",
              "      <td>26516.000000</td>\n",
              "      <td>0.0</td>\n",
              "      <td>0.0</td>\n",
              "      <td>...</td>\n",
              "      <td>6.000000</td>\n",
              "      <td>3.000000</td>\n",
              "      <td>5.000000</td>\n",
              "      <td>7.950000e+05</td>\n",
              "      <td>0.000000</td>\n",
              "      <td>0.0</td>\n",
              "      <td>0.0</td>\n",
              "      <td>66.400000</td>\n",
              "      <td>NaN</td>\n",
              "      <td>NaN</td>\n",
              "    </tr>\n",
              "    <tr>\n",
              "      <th>50%</th>\n",
              "      <td>10.000000</td>\n",
              "      <td>750114.000000</td>\n",
              "      <td>75014.000000</td>\n",
              "      <td>75014.000000</td>\n",
              "      <td>0.0</td>\n",
              "      <td>93920.000000</td>\n",
              "      <td>1.486361e+08</td>\n",
              "      <td>123925.000000</td>\n",
              "      <td>0.0</td>\n",
              "      <td>0.0</td>\n",
              "      <td>...</td>\n",
              "      <td>9.000000</td>\n",
              "      <td>4.000000</td>\n",
              "      <td>10.000000</td>\n",
              "      <td>1.475000e+06</td>\n",
              "      <td>0.000000</td>\n",
              "      <td>0.0</td>\n",
              "      <td>0.0</td>\n",
              "      <td>93.000000</td>\n",
              "      <td>NaN</td>\n",
              "      <td>NaN</td>\n",
              "    </tr>\n",
              "    <tr>\n",
              "      <th>75%</th>\n",
              "      <td>15.000000</td>\n",
              "      <td>750116.000000</td>\n",
              "      <td>75017.000000</td>\n",
              "      <td>75017.000000</td>\n",
              "      <td>0.0</td>\n",
              "      <td>203657.000000</td>\n",
              "      <td>1.495161e+08</td>\n",
              "      <td>213489.000000</td>\n",
              "      <td>0.0</td>\n",
              "      <td>0.0</td>\n",
              "      <td>...</td>\n",
              "      <td>12.000000</td>\n",
              "      <td>5.000000</td>\n",
              "      <td>15.000000</td>\n",
              "      <td>1.490000e+06</td>\n",
              "      <td>1.000000</td>\n",
              "      <td>0.0</td>\n",
              "      <td>0.0</td>\n",
              "      <td>129.000000</td>\n",
              "      <td>NaN</td>\n",
              "      <td>NaN</td>\n",
              "    </tr>\n",
              "    <tr>\n",
              "      <th>max</th>\n",
              "      <td>19.000000</td>\n",
              "      <td>950500.000000</td>\n",
              "      <td>95880.000000</td>\n",
              "      <td>95880.000000</td>\n",
              "      <td>0.0</td>\n",
              "      <td>362103.000000</td>\n",
              "      <td>1.502498e+08</td>\n",
              "      <td>425123.000000</td>\n",
              "      <td>0.0</td>\n",
              "      <td>0.0</td>\n",
              "      <td>...</td>\n",
              "      <td>27.000000</td>\n",
              "      <td>53.000000</td>\n",
              "      <td>19.000000</td>\n",
              "      <td>2.000000e+06</td>\n",
              "      <td>1.000000</td>\n",
              "      <td>0.0</td>\n",
              "      <td>0.0</td>\n",
              "      <td>250.000000</td>\n",
              "      <td>NaN</td>\n",
              "      <td>NaN</td>\n",
              "    </tr>\n",
              "  </tbody>\n",
              "</table>\n",
              "<p>11 rows × 24 columns</p>\n",
              "</div>\n",
              "      <button class=\"colab-df-convert\" onclick=\"convertToInteractive('df-345835bd-0f33-4421-990b-85869fd0fc95')\"\n",
              "              title=\"Convert this dataframe to an interactive table.\"\n",
              "              style=\"display:none;\">\n",
              "        \n",
              "  <svg xmlns=\"http://www.w3.org/2000/svg\" height=\"24px\"viewBox=\"0 0 24 24\"\n",
              "       width=\"24px\">\n",
              "    <path d=\"M0 0h24v24H0V0z\" fill=\"none\"/>\n",
              "    <path d=\"M18.56 5.44l.94 2.06.94-2.06 2.06-.94-2.06-.94-.94-2.06-.94 2.06-2.06.94zm-11 1L8.5 8.5l.94-2.06 2.06-.94-2.06-.94L8.5 2.5l-.94 2.06-2.06.94zm10 10l.94 2.06.94-2.06 2.06-.94-2.06-.94-.94-2.06-.94 2.06-2.06.94z\"/><path d=\"M17.41 7.96l-1.37-1.37c-.4-.4-.92-.59-1.43-.59-.52 0-1.04.2-1.43.59L10.3 9.45l-7.72 7.72c-.78.78-.78 2.05 0 2.83L4 21.41c.39.39.9.59 1.41.59.51 0 1.02-.2 1.41-.59l7.78-7.78 2.81-2.81c.8-.78.8-2.07 0-2.86zM5.41 20L4 18.59l7.72-7.72 1.47 1.35L5.41 20z\"/>\n",
              "  </svg>\n",
              "      </button>\n",
              "      \n",
              "  <style>\n",
              "    .colab-df-container {\n",
              "      display:flex;\n",
              "      flex-wrap:wrap;\n",
              "      gap: 12px;\n",
              "    }\n",
              "\n",
              "    .colab-df-convert {\n",
              "      background-color: #E8F0FE;\n",
              "      border: none;\n",
              "      border-radius: 50%;\n",
              "      cursor: pointer;\n",
              "      display: none;\n",
              "      fill: #1967D2;\n",
              "      height: 32px;\n",
              "      padding: 0 0 0 0;\n",
              "      width: 32px;\n",
              "    }\n",
              "\n",
              "    .colab-df-convert:hover {\n",
              "      background-color: #E2EBFA;\n",
              "      box-shadow: 0px 1px 2px rgba(60, 64, 67, 0.3), 0px 1px 3px 1px rgba(60, 64, 67, 0.15);\n",
              "      fill: #174EA6;\n",
              "    }\n",
              "\n",
              "    [theme=dark] .colab-df-convert {\n",
              "      background-color: #3B4455;\n",
              "      fill: #D2E3FC;\n",
              "    }\n",
              "\n",
              "    [theme=dark] .colab-df-convert:hover {\n",
              "      background-color: #434B5C;\n",
              "      box-shadow: 0px 1px 3px 1px rgba(0, 0, 0, 0.15);\n",
              "      filter: drop-shadow(0px 1px 2px rgba(0, 0, 0, 0.3));\n",
              "      fill: #FFFFFF;\n",
              "    }\n",
              "  </style>\n",
              "\n",
              "      <script>\n",
              "        const buttonEl =\n",
              "          document.querySelector('#df-345835bd-0f33-4421-990b-85869fd0fc95 button.colab-df-convert');\n",
              "        buttonEl.style.display =\n",
              "          google.colab.kernel.accessAllowed ? 'block' : 'none';\n",
              "\n",
              "        async function convertToInteractive(key) {\n",
              "          const element = document.querySelector('#df-345835bd-0f33-4421-990b-85869fd0fc95');\n",
              "          const dataTable =\n",
              "            await google.colab.kernel.invokeFunction('convertToInteractive',\n",
              "                                                     [key], {});\n",
              "          if (!dataTable) return;\n",
              "\n",
              "          const docLinkHtml = 'Like what you see? Visit the ' +\n",
              "            '<a target=\"_blank\" href=https://colab.research.google.com/notebooks/data_table.ipynb>data table notebook</a>'\n",
              "            + ' to learn more about interactive tables.';\n",
              "          element.innerHTML = '';\n",
              "          dataTable['output_type'] = 'display_data';\n",
              "          await google.colab.output.renderOutput(dataTable, element);\n",
              "          const docLink = document.createElement('div');\n",
              "          docLink.innerHTML = docLinkHtml;\n",
              "          element.appendChild(docLink);\n",
              "        }\n",
              "      </script>\n",
              "    </div>\n",
              "  </div>\n",
              "  "
            ]
          },
          "metadata": {},
          "execution_count": 18
        }
      ]
    },
    {
      "cell_type": "markdown",
      "metadata": {
        "id": "Jyqx_N4_yjrS"
      },
      "source": [
        "#**STEP 2: Visualisation of Data**\n",
        "\n",
        "Here we look at Histogram, Box-Plots, for the target variable price. For making plots, we need addtional libraries which we import now."
      ]
    },
    {
      "cell_type": "code",
      "metadata": {
        "id": "nLTjoTZ5zRhb"
      },
      "source": [
        "import matplotlib.pyplot as plt # import this library to visualize plots\n",
        "import seaborn as sns # another visualization library\n"
      ],
      "execution_count": null,
      "outputs": []
    },
    {
      "cell_type": "markdown",
      "metadata": {
        "id": "Pu9b5FYY4n4K"
      },
      "source": [
        "##Histogram"
      ]
    },
    {
      "cell_type": "code",
      "metadata": {
        "id": "YVzs7Joz4rTb",
        "colab": {
          "base_uri": "https://localhost:8080/",
          "height": 349
        },
        "outputId": "aa34aad6-27e9-4296-c1d7-639d19012c7b"
      },
      "source": [
        "plt.figure(figsize=(15, 5))\n",
        "plt.hist(price, bins=14) # use the hist() function to plot a basic histogram of the data\n",
        "plt.title(\"Sales price of Pris apartments\")\n",
        "plt.show() "
      ],
      "execution_count": null,
      "outputs": [
        {
          "output_type": "display_data",
          "data": {
            "text/plain": [
              "<Figure size 1080x360 with 1 Axes>"
            ],
            "image/png": "[encoded data removed]"
          },
          "metadata": {
            "needs_background": "light"
          }
        }
      ]
    },
    {
      "cell_type": "markdown",
      "metadata": {
        "id": "1FLDI0sN5An4"
      },
      "source": [
        "##Box Plot"
      ]
    },
    {
      "cell_type": "code",
      "metadata": {
        "id": "SXmzUjyo5D0c",
        "colab": {
          "base_uri": "https://localhost:8080/",
          "height": 281
        },
        "outputId": "e3ca6667-795d-428b-dbf7-44f37ed345d9"
      },
      "source": [
        "plt.boxplot(price) # use boxplot() for a simple boxplot visualization\n",
        "plt.title(\"Sales price of Pris apartments\")\n",
        "plt.show()"
      ],
      "execution_count": null,
      "outputs": [
        {
          "output_type": "display_data",
          "data": {
            "text/plain": [
              "<Figure size 432x288 with 1 Axes>"
            ],
            "image/png": "[encoded data removed]"
          },
          "metadata": {
            "needs_background": "light"
          }
        }
      ]
    },
    {
      "cell_type": "markdown",
      "metadata": {
        "id": "r50YFhya0PCm"
      },
      "source": [
        "#**STEP 3: Looking for associations between the target and features variables**"
      ]
    },
    {
      "cell_type": "markdown",
      "metadata": {
        "id": "wf6JEPEtk7eX"
      },
      "source": [
        "We define the surface variable as a first feature variable to predict the apartment price target variable"
      ]
    },
    {
      "cell_type": "code",
      "metadata": {
        "id": "8Mr-iTNP0pno"
      },
      "source": [
        "surface = apartments['surface']"
      ],
      "execution_count": null,
      "outputs": []
    },
    {
      "cell_type": "markdown",
      "metadata": {
        "id": "xLxlk81akMpt"
      },
      "source": [
        "We compute correlation between price and surface by computing the 2 x 2 correlation matrix. The correlation matrix contains all possible pairs of correlation. On the main diagonal, there are ones by construction since they measure the correlation between a variable and the same variable. The linear correlation coefficient between the price and surface variables is about 75%, that is a strong positive linear relationship exist between the variables."
      ]
    },
    {
      "cell_type": "code",
      "metadata": {
        "id": "JoPaYvif0-Pf",
        "colab": {
          "base_uri": "https://localhost:8080/"
        },
        "outputId": "152a11d5-a585-44bb-cd4a-c1925cc8dbcc"
      },
      "source": [
        "np.corrcoef(price,surface)"
      ],
      "execution_count": null,
      "outputs": [
        {
          "output_type": "execute_result",
          "data": {
            "text/plain": [
              "array([[1.        , 0.75448745],\n",
              "       [0.75448745, 1.        ]])"
            ]
          },
          "metadata": {},
          "execution_count": 23
        }
      ]
    },
    {
      "cell_type": "code",
      "metadata": {
        "id": "_-HtMKdZ1x3K",
        "colab": {
          "base_uri": "https://localhost:8080/",
          "height": 390
        },
        "outputId": "471b94fe-2741-4fb8-f07a-bbd2c83b66d8"
      },
      "source": [
        "plt.figure(figsize=(8,6)) #if you wish the change the size of the scatter plot, otherwise put in comments\n",
        "plt.scatter(surface,price)\n",
        "plt.title(\"Scatter plot surface x price\")\n",
        "plt.show()"
      ],
      "execution_count": null,
      "outputs": [
        {
          "output_type": "display_data",
          "data": {
            "text/plain": [
              "<Figure size 576x432 with 1 Axes>"
            ],
            "image/png": "[encoded data removed]"
          },
          "metadata": {
            "needs_background": "light"
          }
        }
      ]
    },
    {
      "cell_type": "markdown",
      "metadata": {
        "id": "7Y-5AxUD6R81"
      },
      "source": [
        "Let us define a second feature variable \"nrooms\" respresenting the number of rooms in an apartment. We also do standard descriptive statistics on the variable. From the maximum we see that there is likely a data quality problem. We unlikely have an apartment in Paris with 22 rooms and cheaper than 2 million Euro."
      ]
    },
    {
      "cell_type": "code",
      "metadata": {
        "id": "YgJtyxKB5pv-",
        "colab": {
          "base_uri": "https://localhost:8080/"
        },
        "outputId": "9478f0f3-a55f-418c-feba-0d51eed2a7fa"
      },
      "source": [
        "nrooms = apartments['nb_chambres']\n",
        "nrooms.describe(include='all')"
      ],
      "execution_count": null,
      "outputs": [
        {
          "output_type": "execute_result",
          "data": {
            "text/plain": [
              "count    8899.000000\n",
              "mean        2.319474\n",
              "std         1.170877\n",
              "min         1.000000\n",
              "25%         1.000000\n",
              "50%         2.000000\n",
              "75%         3.000000\n",
              "max        22.000000\n",
              "Name: nb_chambres, dtype: float64"
            ]
          },
          "metadata": {},
          "execution_count": 25
        }
      ]
    },
    {
      "cell_type": "markdown",
      "metadata": {
        "id": "b6SGUpU4lnj1"
      },
      "source": [
        "To make sure the 22 rooms is only occuring for a single apartment and therefore is an outlier, we plot the variable nrooms for each of observations. In fact, the data point is very likely an outlier. An invidual inputting the data when putting the apartment for sale, must have made a mistake (The Fat Finger problem...)."
      ]
    },
    {
      "cell_type": "code",
      "metadata": {
        "id": "FPRhpXXa65xn",
        "colab": {
          "base_uri": "https://localhost:8080/",
          "height": 336
        },
        "outputId": "daa17d70-e51b-4d9a-e1ac-d5fec298a7f0"
      },
      "source": [
        "plt.figure(figsize=(15, 5))\n",
        "plt.plot(nrooms)\n",
        "plt.title(\"number of rooms Paris apartments\")\n",
        "plt.show() "
      ],
      "execution_count": null,
      "outputs": [
        {
          "output_type": "display_data",
          "data": {
            "text/plain": [
              "<Figure size 1080x360 with 1 Axes>"
            ],
            "image/png": "[encoded data removed]"
          },
          "metadata": {
            "needs_background": "light"
          }
        }
      ]
    },
    {
      "cell_type": "markdown",
      "metadata": {
        "id": "3AGRECMg6j39"
      },
      "source": [
        "Inspecting both the descriptive statistics and the plot of the number of rooms, there seems to be a typo: 22 rooms rather than 2 rooms. To be really sure, let us locate this specific apartment and check the other variables."
      ]
    },
    {
      "cell_type": "code",
      "metadata": {
        "id": "eC5NNiCn94l8"
      },
      "source": [
        "test =  apartments.loc[apartments['nb_chambres']==22]"
      ],
      "execution_count": null,
      "outputs": []
    },
    {
      "cell_type": "code",
      "metadata": {
        "id": "x-miTLez-p_4",
        "colab": {
          "base_uri": "https://localhost:8080/",
          "height": 191
        },
        "outputId": "6f82d904-fbea-4031-e0fc-3453b9ea19d9"
      },
      "source": [
        "test"
      ],
      "execution_count": null,
      "outputs": [
        {
          "output_type": "execute_result",
          "data": {
            "text/plain": [
              "      number  codeinsee  codepostal     cp  etage  idagence  idannonce  \\\n",
              "1236       0     750115       75015  75015      0    260996  146819689   \n",
              "\n",
              "      idtiers  idtypechauffage  idtypecommerce  ... nb_photos nb_pieces  \\\n",
              "1236   282708                0               0  ...         4         3   \n",
              "\n",
              "      position    prix  si_balcon  si_sdEau  si_sdbain  surface   typedebien  \\\n",
              "1236         0  567000          0         0          0     77.0  Appartement   \n",
              "\n",
              "             ville  \n",
              "1236  Paris 15√®me  \n",
              "\n",
              "[1 rows x 24 columns]"
            ],
            "text/html": [
              "\n",
              "  <div id=\"df-74efac0c-00e6-488d-bca7-72044a3638b1\">\n",
              "    <div class=\"colab-df-container\">\n",
              "      <div>\n",
              "<style scoped>\n",
              "    .dataframe tbody tr th:only-of-type {\n",
              "        vertical-align: middle;\n",
              "    }\n",
              "\n",
              "    .dataframe tbody tr th {\n",
              "        vertical-align: top;\n",
              "    }\n",
              "\n",
              "    .dataframe thead th {\n",
              "        text-align: right;\n",
              "    }\n",
              "</style>\n",
              "<table border=\"1\" class=\"dataframe\">\n",
              "  <thead>\n",
              "    <tr style=\"text-align: right;\">\n",
              "      <th></th>\n",
              "      <th>number</th>\n",
              "      <th>codeinsee</th>\n",
              "      <th>codepostal</th>\n",
              "      <th>cp</th>\n",
              "      <th>etage</th>\n",
              "      <th>idagence</th>\n",
              "      <th>idannonce</th>\n",
              "      <th>idtiers</th>\n",
              "      <th>idtypechauffage</th>\n",
              "      <th>idtypecommerce</th>\n",
              "      <th>...</th>\n",
              "      <th>nb_photos</th>\n",
              "      <th>nb_pieces</th>\n",
              "      <th>position</th>\n",
              "      <th>prix</th>\n",
              "      <th>si_balcon</th>\n",
              "      <th>si_sdEau</th>\n",
              "      <th>si_sdbain</th>\n",
              "      <th>surface</th>\n",
              "      <th>typedebien</th>\n",
              "      <th>ville</th>\n",
              "    </tr>\n",
              "  </thead>\n",
              "  <tbody>\n",
              "    <tr>\n",
              "      <th>1236</th>\n",
              "      <td>0</td>\n",
              "      <td>750115</td>\n",
              "      <td>75015</td>\n",
              "      <td>75015</td>\n",
              "      <td>0</td>\n",
              "      <td>260996</td>\n",
              "      <td>146819689</td>\n",
              "      <td>282708</td>\n",
              "      <td>0</td>\n",
              "      <td>0</td>\n",
              "      <td>...</td>\n",
              "      <td>4</td>\n",
              "      <td>3</td>\n",
              "      <td>0</td>\n",
              "      <td>567000</td>\n",
              "      <td>0</td>\n",
              "      <td>0</td>\n",
              "      <td>0</td>\n",
              "      <td>77.0</td>\n",
              "      <td>Appartement</td>\n",
              "      <td>Paris 15√®me</td>\n",
              "    </tr>\n",
              "  </tbody>\n",
              "</table>\n",
              "<p>1 rows × 24 columns</p>\n",
              "</div>\n",
              "      <button class=\"colab-df-convert\" onclick=\"convertToInteractive('df-74efac0c-00e6-488d-bca7-72044a3638b1')\"\n",
              "              title=\"Convert this dataframe to an interactive table.\"\n",
              "              style=\"display:none;\">\n",
              "        \n",
              "  <svg xmlns=\"http://www.w3.org/2000/svg\" height=\"24px\"viewBox=\"0 0 24 24\"\n",
              "       width=\"24px\">\n",
              "    <path d=\"M0 0h24v24H0V0z\" fill=\"none\"/>\n",
              "    <path d=\"M18.56 5.44l.94 2.06.94-2.06 2.06-.94-2.06-.94-.94-2.06-.94 2.06-2.06.94zm-11 1L8.5 8.5l.94-2.06 2.06-.94-2.06-.94L8.5 2.5l-.94 2.06-2.06.94zm10 10l.94 2.06.94-2.06 2.06-.94-2.06-.94-.94-2.06-.94 2.06-2.06.94z\"/><path d=\"M17.41 7.96l-1.37-1.37c-.4-.4-.92-.59-1.43-.59-.52 0-1.04.2-1.43.59L10.3 9.45l-7.72 7.72c-.78.78-.78 2.05 0 2.83L4 21.41c.39.39.9.59 1.41.59.51 0 1.02-.2 1.41-.59l7.78-7.78 2.81-2.81c.8-.78.8-2.07 0-2.86zM5.41 20L4 18.59l7.72-7.72 1.47 1.35L5.41 20z\"/>\n",
              "  </svg>\n",
              "      </button>\n",
              "      \n",
              "  <style>\n",
              "    .colab-df-container {\n",
              "      display:flex;\n",
              "      flex-wrap:wrap;\n",
              "      gap: 12px;\n",
              "    }\n",
              "\n",
              "    .colab-df-convert {\n",
              "      background-color: #E8F0FE;\n",
              "      border: none;\n",
              "      border-radius: 50%;\n",
              "      cursor: pointer;\n",
              "      display: none;\n",
              "      fill: #1967D2;\n",
              "      height: 32px;\n",
              "      padding: 0 0 0 0;\n",
              "      width: 32px;\n",
              "    }\n",
              "\n",
              "    .colab-df-convert:hover {\n",
              "      background-color: #E2EBFA;\n",
              "      box-shadow: 0px 1px 2px rgba(60, 64, 67, 0.3), 0px 1px 3px 1px rgba(60, 64, 67, 0.15);\n",
              "      fill: #174EA6;\n",
              "    }\n",
              "\n",
              "    [theme=dark] .colab-df-convert {\n",
              "      background-color: #3B4455;\n",
              "      fill: #D2E3FC;\n",
              "    }\n",
              "\n",
              "    [theme=dark] .colab-df-convert:hover {\n",
              "      background-color: #434B5C;\n",
              "      box-shadow: 0px 1px 3px 1px rgba(0, 0, 0, 0.15);\n",
              "      filter: drop-shadow(0px 1px 2px rgba(0, 0, 0, 0.3));\n",
              "      fill: #FFFFFF;\n",
              "    }\n",
              "  </style>\n",
              "\n",
              "      <script>\n",
              "        const buttonEl =\n",
              "          document.querySelector('#df-74efac0c-00e6-488d-bca7-72044a3638b1 button.colab-df-convert');\n",
              "        buttonEl.style.display =\n",
              "          google.colab.kernel.accessAllowed ? 'block' : 'none';\n",
              "\n",
              "        async function convertToInteractive(key) {\n",
              "          const element = document.querySelector('#df-74efac0c-00e6-488d-bca7-72044a3638b1');\n",
              "          const dataTable =\n",
              "            await google.colab.kernel.invokeFunction('convertToInteractive',\n",
              "                                                     [key], {});\n",
              "          if (!dataTable) return;\n",
              "\n",
              "          const docLinkHtml = 'Like what you see? Visit the ' +\n",
              "            '<a target=\"_blank\" href=https://colab.research.google.com/notebooks/data_table.ipynb>data table notebook</a>'\n",
              "            + ' to learn more about interactive tables.';\n",
              "          element.innerHTML = '';\n",
              "          dataTable['output_type'] = 'display_data';\n",
              "          await google.colab.output.renderOutput(dataTable, element);\n",
              "          const docLink = document.createElement('div');\n",
              "          docLink.innerHTML = docLinkHtml;\n",
              "          element.appendChild(docLink);\n",
              "        }\n",
              "      </script>\n",
              "    </div>\n",
              "  </div>\n",
              "  "
            ]
          },
          "metadata": {},
          "execution_count": 28
        }
      ]
    },
    {
      "cell_type": "markdown",
      "metadata": {
        "id": "3SitE3WX-wem"
      },
      "source": [
        "In fact, this apartment is small and not very expensive. Let us replace this 22 by a 2, and re-define again the nrooms variable. We can see that the maximum number of rooms now is 6, which makes much more sense. Note that taking care of outliers at this stage is very important becasue if feeded in the regression model later, this can severaly impact the prediction machine."
      ]
    },
    {
      "cell_type": "code",
      "metadata": {
        "id": "IqBffQwR_Mjk"
      },
      "source": [
        "apartments.loc[apartments['nb_chambres']==22, 'nb_chambres'] = 2"
      ],
      "execution_count": null,
      "outputs": []
    },
    {
      "cell_type": "code",
      "metadata": {
        "id": "IG3gCicWA7lo",
        "colab": {
          "base_uri": "https://localhost:8080/"
        },
        "outputId": "557ce56f-e5e8-4949-f0a9-a4acb9807a45"
      },
      "source": [
        "nrooms = apartments['nb_chambres']\n",
        "nrooms.describe(include='all')"
      ],
      "execution_count": null,
      "outputs": [
        {
          "output_type": "execute_result",
          "data": {
            "text/plain": [
              "count    8899.000000\n",
              "mean        2.317227\n",
              "std         1.152141\n",
              "min         1.000000\n",
              "25%         1.000000\n",
              "50%         2.000000\n",
              "75%         3.000000\n",
              "max         6.000000\n",
              "Name: nb_chambres, dtype: float64"
            ]
          },
          "metadata": {},
          "execution_count": 30
        }
      ]
    },
    {
      "cell_type": "markdown",
      "metadata": {
        "id": "ZWkjYBZiBYbv"
      },
      "source": [
        "Let us make a scatter plot between price and number of rooms. Note that price is takes many values and is considered as quantitative and continuous, while the number of rooms is quantitative and discrete, which will appear clearly in the scatter plot"
      ]
    },
    {
      "cell_type": "code",
      "metadata": {
        "id": "qmK9qcOdBPUx",
        "colab": {
          "base_uri": "https://localhost:8080/",
          "height": 390
        },
        "outputId": "d5b63928-c288-4f2c-fadf-d7e63a5839e2"
      },
      "source": [
        "\n",
        "plt.figure(figsize=(8,6)) #if you wish the change the size of the scatter plot, otherwise put in comments\n",
        "plt.scatter(nrooms,price)\n",
        "plt.title(\"Scatter plot number of rooms x price\")\n",
        "plt.show()"
      ],
      "execution_count": null,
      "outputs": [
        {
          "output_type": "display_data",
          "data": {
            "text/plain": [
              "<Figure size 576x432 with 1 Axes>"
            ],
            "image/png": "[encoded data removed]"
          },
          "metadata": {
            "needs_background": "light"
          }
        }
      ]
    },
    {
      "cell_type": "markdown",
      "metadata": {
        "id": "oY_u2UWA38M3"
      },
      "source": [
        "To see in more detail the link between number of rooms and price, we can make a cross tab. However applying directly the crosstab function, we see that there are way too many different prices for the appartments."
      ]
    },
    {
      "cell_type": "code",
      "metadata": {
        "id": "i9m4ELZ1vxtx",
        "colab": {
          "base_uri": "https://localhost:8080/",
          "height": 330
        },
        "outputId": "4ebcfaa0-a087-411a-a3df-c78d133d198b"
      },
      "source": [
        "pd.crosstab(nrooms,price,margins=True)"
      ],
      "execution_count": null,
      "outputs": [
        {
          "output_type": "execute_result",
          "data": {
            "text/plain": [
              "prix         59000  77500  94000  96000  100000  110000  111000  112000  \\\n",
              "nb_chambres                                                               \n",
              "1                0      0      1      0       1       3       1       1   \n",
              "2                1      1      0      1       0       0       2       0   \n",
              "3                0      0      0      0       0       0       0       0   \n",
              "4                0      0      0      0       0       0       0       0   \n",
              "5                0      0      0      0       0       0       0       0   \n",
              "6                0      0      0      0       0       0       0       0   \n",
              "All              1      1      1      1       1       3       3       1   \n",
              "\n",
              "prix         113000  114000  ...  1965000  1970000  1974000  1980000  1988000  \\\n",
              "nb_chambres                  ...                                                \n",
              "1                 1       0  ...        0        0        0        0        0   \n",
              "2                 0       1  ...        0        2        0        0        2   \n",
              "3                 0       0  ...        1        0        1        2        1   \n",
              "4                 0       0  ...        0        0        0        0        0   \n",
              "5                 0       0  ...        0        0        0        0        0   \n",
              "6                 0       0  ...        0        0        0        0        0   \n",
              "All               1       1  ...        1        2        1        2        3   \n",
              "\n",
              "prix         1990000  1995000  1999000  2000000   All  \n",
              "nb_chambres                                            \n",
              "1                  0        0        0        0  2391  \n",
              "2                  2        1        0        1  3213  \n",
              "3                  4        0        1        1  2004  \n",
              "4                  0        0        0        0   667  \n",
              "5                  1        0        0        0   620  \n",
              "6                  0        1        0        0     4  \n",
              "All                7        2        1        2  8899  \n",
              "\n",
              "[7 rows x 1053 columns]"
            ],
            "text/html": [
              "\n",
              "  <div id=\"df-d210762f-9825-4113-a711-41553afb407d\">\n",
              "    <div class=\"colab-df-container\">\n",
              "      <div>\n",
              "<style scoped>\n",
              "    .dataframe tbody tr th:only-of-type {\n",
              "        vertical-align: middle;\n",
              "    }\n",
              "\n",
              "    .dataframe tbody tr th {\n",
              "        vertical-align: top;\n",
              "    }\n",
              "\n",
              "    .dataframe thead th {\n",
              "        text-align: right;\n",
              "    }\n",
              "</style>\n",
              "<table border=\"1\" class=\"dataframe\">\n",
              "  <thead>\n",
              "    <tr style=\"text-align: right;\">\n",
              "      <th>prix</th>\n",
              "      <th>59000</th>\n",
              "      <th>77500</th>\n",
              "      <th>94000</th>\n",
              "      <th>96000</th>\n",
              "      <th>100000</th>\n",
              "      <th>110000</th>\n",
              "      <th>111000</th>\n",
              "      <th>112000</th>\n",
              "      <th>113000</th>\n",
              "      <th>114000</th>\n",
              "      <th>...</th>\n",
              "      <th>1965000</th>\n",
              "      <th>1970000</th>\n",
              "      <th>1974000</th>\n",
              "      <th>1980000</th>\n",
              "      <th>1988000</th>\n",
              "      <th>1990000</th>\n",
              "      <th>1995000</th>\n",
              "      <th>1999000</th>\n",
              "      <th>2000000</th>\n",
              "      <th>All</th>\n",
              "    </tr>\n",
              "    <tr>\n",
              "      <th>nb_chambres</th>\n",
              "      <th></th>\n",
              "      <th></th>\n",
              "      <th></th>\n",
              "      <th></th>\n",
              "      <th></th>\n",
              "      <th></th>\n",
              "      <th></th>\n",
              "      <th></th>\n",
              "      <th></th>\n",
              "      <th></th>\n",
              "      <th></th>\n",
              "      <th></th>\n",
              "      <th></th>\n",
              "      <th></th>\n",
              "      <th></th>\n",
              "      <th></th>\n",
              "      <th></th>\n",
              "      <th></th>\n",
              "      <th></th>\n",
              "      <th></th>\n",
              "      <th></th>\n",
              "    </tr>\n",
              "  </thead>\n",
              "  <tbody>\n",
              "    <tr>\n",
              "      <th>1</th>\n",
              "      <td>0</td>\n",
              "      <td>0</td>\n",
              "      <td>1</td>\n",
              "      <td>0</td>\n",
              "      <td>1</td>\n",
              "      <td>3</td>\n",
              "      <td>1</td>\n",
              "      <td>1</td>\n",
              "      <td>1</td>\n",
              "      <td>0</td>\n",
              "      <td>...</td>\n",
              "      <td>0</td>\n",
              "      <td>0</td>\n",
              "      <td>0</td>\n",
              "      <td>0</td>\n",
              "      <td>0</td>\n",
              "      <td>0</td>\n",
              "      <td>0</td>\n",
              "      <td>0</td>\n",
              "      <td>0</td>\n",
              "      <td>2391</td>\n",
              "    </tr>\n",
              "    <tr>\n",
              "      <th>2</th>\n",
              "      <td>1</td>\n",
              "      <td>1</td>\n",
              "      <td>0</td>\n",
              "      <td>1</td>\n",
              "      <td>0</td>\n",
              "      <td>0</td>\n",
              "      <td>2</td>\n",
              "      <td>0</td>\n",
              "      <td>0</td>\n",
              "      <td>1</td>\n",
              "      <td>...</td>\n",
              "      <td>0</td>\n",
              "      <td>2</td>\n",
              "      <td>0</td>\n",
              "      <td>0</td>\n",
              "      <td>2</td>\n",
              "      <td>2</td>\n",
              "      <td>1</td>\n",
              "      <td>0</td>\n",
              "      <td>1</td>\n",
              "      <td>3213</td>\n",
              "    </tr>\n",
              "    <tr>\n",
              "      <th>3</th>\n",
              "      <td>0</td>\n",
              "      <td>0</td>\n",
              "      <td>0</td>\n",
              "      <td>0</td>\n",
              "      <td>0</td>\n",
              "      <td>0</td>\n",
              "      <td>0</td>\n",
              "      <td>0</td>\n",
              "      <td>0</td>\n",
              "      <td>0</td>\n",
              "      <td>...</td>\n",
              "      <td>1</td>\n",
              "      <td>0</td>\n",
              "      <td>1</td>\n",
              "      <td>2</td>\n",
              "      <td>1</td>\n",
              "      <td>4</td>\n",
              "      <td>0</td>\n",
              "      <td>1</td>\n",
              "      <td>1</td>\n",
              "      <td>2004</td>\n",
              "    </tr>\n",
              "    <tr>\n",
              "      <th>4</th>\n",
              "      <td>0</td>\n",
              "      <td>0</td>\n",
              "      <td>0</td>\n",
              "      <td>0</td>\n",
              "      <td>0</td>\n",
              "      <td>0</td>\n",
              "      <td>0</td>\n",
              "      <td>0</td>\n",
              "      <td>0</td>\n",
              "      <td>0</td>\n",
              "      <td>...</td>\n",
              "      <td>0</td>\n",
              "      <td>0</td>\n",
              "      <td>0</td>\n",
              "      <td>0</td>\n",
              "      <td>0</td>\n",
              "      <td>0</td>\n",
              "      <td>0</td>\n",
              "      <td>0</td>\n",
              "      <td>0</td>\n",
              "      <td>667</td>\n",
              "    </tr>\n",
              "    <tr>\n",
              "      <th>5</th>\n",
              "      <td>0</td>\n",
              "      <td>0</td>\n",
              "      <td>0</td>\n",
              "      <td>0</td>\n",
              "      <td>0</td>\n",
              "      <td>0</td>\n",
              "      <td>0</td>\n",
              "      <td>0</td>\n",
              "      <td>0</td>\n",
              "      <td>0</td>\n",
              "      <td>...</td>\n",
              "      <td>0</td>\n",
              "      <td>0</td>\n",
              "      <td>0</td>\n",
              "      <td>0</td>\n",
              "      <td>0</td>\n",
              "      <td>1</td>\n",
              "      <td>0</td>\n",
              "      <td>0</td>\n",
              "      <td>0</td>\n",
              "      <td>620</td>\n",
              "    </tr>\n",
              "    <tr>\n",
              "      <th>6</th>\n",
              "      <td>0</td>\n",
              "      <td>0</td>\n",
              "      <td>0</td>\n",
              "      <td>0</td>\n",
              "      <td>0</td>\n",
              "      <td>0</td>\n",
              "      <td>0</td>\n",
              "      <td>0</td>\n",
              "      <td>0</td>\n",
              "      <td>0</td>\n",
              "      <td>...</td>\n",
              "      <td>0</td>\n",
              "      <td>0</td>\n",
              "      <td>0</td>\n",
              "      <td>0</td>\n",
              "      <td>0</td>\n",
              "      <td>0</td>\n",
              "      <td>1</td>\n",
              "      <td>0</td>\n",
              "      <td>0</td>\n",
              "      <td>4</td>\n",
              "    </tr>\n",
              "    <tr>\n",
              "      <th>All</th>\n",
              "      <td>1</td>\n",
              "      <td>1</td>\n",
              "      <td>1</td>\n",
              "      <td>1</td>\n",
              "      <td>1</td>\n",
              "      <td>3</td>\n",
              "      <td>3</td>\n",
              "      <td>1</td>\n",
              "      <td>1</td>\n",
              "      <td>1</td>\n",
              "      <td>...</td>\n",
              "      <td>1</td>\n",
              "      <td>2</td>\n",
              "      <td>1</td>\n",
              "      <td>2</td>\n",
              "      <td>3</td>\n",
              "      <td>7</td>\n",
              "      <td>2</td>\n",
              "      <td>1</td>\n",
              "      <td>2</td>\n",
              "      <td>8899</td>\n",
              "    </tr>\n",
              "  </tbody>\n",
              "</table>\n",
              "<p>7 rows × 1053 columns</p>\n",
              "</div>\n",
              "      <button class=\"colab-df-convert\" onclick=\"convertToInteractive('df-d210762f-9825-4113-a711-41553afb407d')\"\n",
              "              title=\"Convert this dataframe to an interactive table.\"\n",
              "              style=\"display:none;\">\n",
              "        \n",
              "  <svg xmlns=\"http://www.w3.org/2000/svg\" height=\"24px\"viewBox=\"0 0 24 24\"\n",
              "       width=\"24px\">\n",
              "    <path d=\"M0 0h24v24H0V0z\" fill=\"none\"/>\n",
              "    <path d=\"M18.56 5.44l.94 2.06.94-2.06 2.06-.94-2.06-.94-.94-2.06-.94 2.06-2.06.94zm-11 1L8.5 8.5l.94-2.06 2.06-.94-2.06-.94L8.5 2.5l-.94 2.06-2.06.94zm10 10l.94 2.06.94-2.06 2.06-.94-2.06-.94-.94-2.06-.94 2.06-2.06.94z\"/><path d=\"M17.41 7.96l-1.37-1.37c-.4-.4-.92-.59-1.43-.59-.52 0-1.04.2-1.43.59L10.3 9.45l-7.72 7.72c-.78.78-.78 2.05 0 2.83L4 21.41c.39.39.9.59 1.41.59.51 0 1.02-.2 1.41-.59l7.78-7.78 2.81-2.81c.8-.78.8-2.07 0-2.86zM5.41 20L4 18.59l7.72-7.72 1.47 1.35L5.41 20z\"/>\n",
              "  </svg>\n",
              "      </button>\n",
              "      \n",
              "  <style>\n",
              "    .colab-df-container {\n",
              "      display:flex;\n",
              "      flex-wrap:wrap;\n",
              "      gap: 12px;\n",
              "    }\n",
              "\n",
              "    .colab-df-convert {\n",
              "      background-color: #E8F0FE;\n",
              "      border: none;\n",
              "      border-radius: 50%;\n",
              "      cursor: pointer;\n",
              "      display: none;\n",
              "      fill: #1967D2;\n",
              "      height: 32px;\n",
              "      padding: 0 0 0 0;\n",
              "      width: 32px;\n",
              "    }\n",
              "\n",
              "    .colab-df-convert:hover {\n",
              "      background-color: #E2EBFA;\n",
              "      box-shadow: 0px 1px 2px rgba(60, 64, 67, 0.3), 0px 1px 3px 1px rgba(60, 64, 67, 0.15);\n",
              "      fill: #174EA6;\n",
              "    }\n",
              "\n",
              "    [theme=dark] .colab-df-convert {\n",
              "      background-color: #3B4455;\n",
              "      fill: #D2E3FC;\n",
              "    }\n",
              "\n",
              "    [theme=dark] .colab-df-convert:hover {\n",
              "      background-color: #434B5C;\n",
              "      box-shadow: 0px 1px 3px 1px rgba(0, 0, 0, 0.15);\n",
              "      filter: drop-shadow(0px 1px 2px rgba(0, 0, 0, 0.3));\n",
              "      fill: #FFFFFF;\n",
              "    }\n",
              "  </style>\n",
              "\n",
              "      <script>\n",
              "        const buttonEl =\n",
              "          document.querySelector('#df-d210762f-9825-4113-a711-41553afb407d button.colab-df-convert');\n",
              "        buttonEl.style.display =\n",
              "          google.colab.kernel.accessAllowed ? 'block' : 'none';\n",
              "\n",
              "        async function convertToInteractive(key) {\n",
              "          const element = document.querySelector('#df-d210762f-9825-4113-a711-41553afb407d');\n",
              "          const dataTable =\n",
              "            await google.colab.kernel.invokeFunction('convertToInteractive',\n",
              "                                                     [key], {});\n",
              "          if (!dataTable) return;\n",
              "\n",
              "          const docLinkHtml = 'Like what you see? Visit the ' +\n",
              "            '<a target=\"_blank\" href=https://colab.research.google.com/notebooks/data_table.ipynb>data table notebook</a>'\n",
              "            + ' to learn more about interactive tables.';\n",
              "          element.innerHTML = '';\n",
              "          dataTable['output_type'] = 'display_data';\n",
              "          await google.colab.output.renderOutput(dataTable, element);\n",
              "          const docLink = document.createElement('div');\n",
              "          docLink.innerHTML = docLinkHtml;\n",
              "          element.appendChild(docLink);\n",
              "        }\n",
              "      </script>\n",
              "    </div>\n",
              "  </div>\n",
              "  "
            ]
          },
          "metadata": {},
          "execution_count": 32
        }
      ]
    },
    {
      "cell_type": "markdown",
      "metadata": {
        "id": "Sjmz1XGk4Nel"
      },
      "source": [
        "To make a more interesting cross tabulation table, we need to discretize the prize data. That means we will assign each price to a certain category. The categories we choose here correspond to the 9 deciles of the price variable, so the each of the 10 categories contains 10% of the data. Now the cross tab becomes more interesting to interpret."
      ]
    },
    {
      "cell_type": "code",
      "metadata": {
        "id": "3TBwNBlgzidz"
      },
      "source": [
        "apartments['pricedeciles'] = pd.qcut(apartments['prix'], q=10,duplicates='drop')"
      ],
      "execution_count": null,
      "outputs": []
    },
    {
      "cell_type": "code",
      "metadata": {
        "id": "9koof6RP29RF",
        "colab": {
          "base_uri": "https://localhost:8080/",
          "height": 362
        },
        "outputId": "acc228cf-611a-4570-b73f-2690a52fd028"
      },
      "source": [
        "\n",
        "pd.crosstab(nrooms,apartments['pricedeciles'],margins=True)"
      ],
      "execution_count": null,
      "outputs": [
        {
          "output_type": "execute_result",
          "data": {
            "text/plain": [
              "pricedeciles  (58999.999, 494800.0]  (494800.0, 683600.0]  \\\n",
              "nb_chambres                                                 \n",
              "1                               700                   516   \n",
              "2                               147                   330   \n",
              "3                                39                    44   \n",
              "4                                 4                     0   \n",
              "5                                 0                     0   \n",
              "6                                 0                     0   \n",
              "All                             890                   890   \n",
              "\n",
              "pricedeciles  (683600.0, 935400.0]  (935400.0, 1440000.0]  \\\n",
              "nb_chambres                                                 \n",
              "1                              269                    128   \n",
              "2                              422                    367   \n",
              "3                              179                    306   \n",
              "4                               20                     81   \n",
              "5                                0                     10   \n",
              "6                                0                      0   \n",
              "All                            890                    892   \n",
              "\n",
              "pricedeciles  (1440000.0, 1475000.0]  (1475000.0, 1483200.0]  \\\n",
              "nb_chambres                                                    \n",
              "1                                206                       0   \n",
              "2                                823                     404   \n",
              "3                                 15                       0   \n",
              "4                                  6                       0   \n",
              "5                                  0                     404   \n",
              "6                                  0                       0   \n",
              "All                             1050                     808   \n",
              "\n",
              "pricedeciles  (1483200.0, 1490000.0]  (1490000.0, 1665000.0]  \\\n",
              "nb_chambres                                                    \n",
              "1                                405                       6   \n",
              "2                                607                      24   \n",
              "3                                607                     382   \n",
              "4                                202                     167   \n",
              "5                                202                       3   \n",
              "6                                  0                       0   \n",
              "All                             2023                     582   \n",
              "\n",
              "pricedeciles  (1665000.0, 2000000.0]   All  \n",
              "nb_chambres                                 \n",
              "1                                161  2391  \n",
              "2                                 89  3213  \n",
              "3                                432  2004  \n",
              "4                                187   667  \n",
              "5                                  1   620  \n",
              "6                                  4     4  \n",
              "All                              874  8899  "
            ],
            "text/html": [
              "\n",
              "  <div id=\"df-b702cebc-5abd-4512-90f0-314d0cb69b81\">\n",
              "    <div class=\"colab-df-container\">\n",
              "      <div>\n",
              "<style scoped>\n",
              "    .dataframe tbody tr th:only-of-type {\n",
              "        vertical-align: middle;\n",
              "    }\n",
              "\n",
              "    .dataframe tbody tr th {\n",
              "        vertical-align: top;\n",
              "    }\n",
              "\n",
              "    .dataframe thead th {\n",
              "        text-align: right;\n",
              "    }\n",
              "</style>\n",
              "<table border=\"1\" class=\"dataframe\">\n",
              "  <thead>\n",
              "    <tr style=\"text-align: right;\">\n",
              "      <th>pricedeciles</th>\n",
              "      <th>(58999.999, 494800.0]</th>\n",
              "      <th>(494800.0, 683600.0]</th>\n",
              "      <th>(683600.0, 935400.0]</th>\n",
              "      <th>(935400.0, 1440000.0]</th>\n",
              "      <th>(1440000.0, 1475000.0]</th>\n",
              "      <th>(1475000.0, 1483200.0]</th>\n",
              "      <th>(1483200.0, 1490000.0]</th>\n",
              "      <th>(1490000.0, 1665000.0]</th>\n",
              "      <th>(1665000.0, 2000000.0]</th>\n",
              "      <th>All</th>\n",
              "    </tr>\n",
              "    <tr>\n",
              "      <th>nb_chambres</th>\n",
              "      <th></th>\n",
              "      <th></th>\n",
              "      <th></th>\n",
              "      <th></th>\n",
              "      <th></th>\n",
              "      <th></th>\n",
              "      <th></th>\n",
              "      <th></th>\n",
              "      <th></th>\n",
              "      <th></th>\n",
              "    </tr>\n",
              "  </thead>\n",
              "  <tbody>\n",
              "    <tr>\n",
              "      <th>1</th>\n",
              "      <td>700</td>\n",
              "      <td>516</td>\n",
              "      <td>269</td>\n",
              "      <td>128</td>\n",
              "      <td>206</td>\n",
              "      <td>0</td>\n",
              "      <td>405</td>\n",
              "      <td>6</td>\n",
              "      <td>161</td>\n",
              "      <td>2391</td>\n",
              "    </tr>\n",
              "    <tr>\n",
              "      <th>2</th>\n",
              "      <td>147</td>\n",
              "      <td>330</td>\n",
              "      <td>422</td>\n",
              "      <td>367</td>\n",
              "      <td>823</td>\n",
              "      <td>404</td>\n",
              "      <td>607</td>\n",
              "      <td>24</td>\n",
              "      <td>89</td>\n",
              "      <td>3213</td>\n",
              "    </tr>\n",
              "    <tr>\n",
              "      <th>3</th>\n",
              "      <td>39</td>\n",
              "      <td>44</td>\n",
              "      <td>179</td>\n",
              "      <td>306</td>\n",
              "      <td>15</td>\n",
              "      <td>0</td>\n",
              "      <td>607</td>\n",
              "      <td>382</td>\n",
              "      <td>432</td>\n",
              "      <td>2004</td>\n",
              "    </tr>\n",
              "    <tr>\n",
              "      <th>4</th>\n",
              "      <td>4</td>\n",
              "      <td>0</td>\n",
              "      <td>20</td>\n",
              "      <td>81</td>\n",
              "      <td>6</td>\n",
              "      <td>0</td>\n",
              "      <td>202</td>\n",
              "      <td>167</td>\n",
              "      <td>187</td>\n",
              "      <td>667</td>\n",
              "    </tr>\n",
              "    <tr>\n",
              "      <th>5</th>\n",
              "      <td>0</td>\n",
              "      <td>0</td>\n",
              "      <td>0</td>\n",
              "      <td>10</td>\n",
              "      <td>0</td>\n",
              "      <td>404</td>\n",
              "      <td>202</td>\n",
              "      <td>3</td>\n",
              "      <td>1</td>\n",
              "      <td>620</td>\n",
              "    </tr>\n",
              "    <tr>\n",
              "      <th>6</th>\n",
              "      <td>0</td>\n",
              "      <td>0</td>\n",
              "      <td>0</td>\n",
              "      <td>0</td>\n",
              "      <td>0</td>\n",
              "      <td>0</td>\n",
              "      <td>0</td>\n",
              "      <td>0</td>\n",
              "      <td>4</td>\n",
              "      <td>4</td>\n",
              "    </tr>\n",
              "    <tr>\n",
              "      <th>All</th>\n",
              "      <td>890</td>\n",
              "      <td>890</td>\n",
              "      <td>890</td>\n",
              "      <td>892</td>\n",
              "      <td>1050</td>\n",
              "      <td>808</td>\n",
              "      <td>2023</td>\n",
              "      <td>582</td>\n",
              "      <td>874</td>\n",
              "      <td>8899</td>\n",
              "    </tr>\n",
              "  </tbody>\n",
              "</table>\n",
              "</div>\n",
              "      <button class=\"colab-df-convert\" onclick=\"convertToInteractive('df-b702cebc-5abd-4512-90f0-314d0cb69b81')\"\n",
              "              title=\"Convert this dataframe to an interactive table.\"\n",
              "              style=\"display:none;\">\n",
              "        \n",
              "  <svg xmlns=\"http://www.w3.org/2000/svg\" height=\"24px\"viewBox=\"0 0 24 24\"\n",
              "       width=\"24px\">\n",
              "    <path d=\"M0 0h24v24H0V0z\" fill=\"none\"/>\n",
              "    <path d=\"M18.56 5.44l.94 2.06.94-2.06 2.06-.94-2.06-.94-.94-2.06-.94 2.06-2.06.94zm-11 1L8.5 8.5l.94-2.06 2.06-.94-2.06-.94L8.5 2.5l-.94 2.06-2.06.94zm10 10l.94 2.06.94-2.06 2.06-.94-2.06-.94-.94-2.06-.94 2.06-2.06.94z\"/><path d=\"M17.41 7.96l-1.37-1.37c-.4-.4-.92-.59-1.43-.59-.52 0-1.04.2-1.43.59L10.3 9.45l-7.72 7.72c-.78.78-.78 2.05 0 2.83L4 21.41c.39.39.9.59 1.41.59.51 0 1.02-.2 1.41-.59l7.78-7.78 2.81-2.81c.8-.78.8-2.07 0-2.86zM5.41 20L4 18.59l7.72-7.72 1.47 1.35L5.41 20z\"/>\n",
              "  </svg>\n",
              "      </button>\n",
              "      \n",
              "  <style>\n",
              "    .colab-df-container {\n",
              "      display:flex;\n",
              "      flex-wrap:wrap;\n",
              "      gap: 12px;\n",
              "    }\n",
              "\n",
              "    .colab-df-convert {\n",
              "      background-color: #E8F0FE;\n",
              "      border: none;\n",
              "      border-radius: 50%;\n",
              "      cursor: pointer;\n",
              "      display: none;\n",
              "      fill: #1967D2;\n",
              "      height: 32px;\n",
              "      padding: 0 0 0 0;\n",
              "      width: 32px;\n",
              "    }\n",
              "\n",
              "    .colab-df-convert:hover {\n",
              "      background-color: #E2EBFA;\n",
              "      box-shadow: 0px 1px 2px rgba(60, 64, 67, 0.3), 0px 1px 3px 1px rgba(60, 64, 67, 0.15);\n",
              "      fill: #174EA6;\n",
              "    }\n",
              "\n",
              "    [theme=dark] .colab-df-convert {\n",
              "      background-color: #3B4455;\n",
              "      fill: #D2E3FC;\n",
              "    }\n",
              "\n",
              "    [theme=dark] .colab-df-convert:hover {\n",
              "      background-color: #434B5C;\n",
              "      box-shadow: 0px 1px 3px 1px rgba(0, 0, 0, 0.15);\n",
              "      filter: drop-shadow(0px 1px 2px rgba(0, 0, 0, 0.3));\n",
              "      fill: #FFFFFF;\n",
              "    }\n",
              "  </style>\n",
              "\n",
              "      <script>\n",
              "        const buttonEl =\n",
              "          document.querySelector('#df-b702cebc-5abd-4512-90f0-314d0cb69b81 button.colab-df-convert');\n",
              "        buttonEl.style.display =\n",
              "          google.colab.kernel.accessAllowed ? 'block' : 'none';\n",
              "\n",
              "        async function convertToInteractive(key) {\n",
              "          const element = document.querySelector('#df-b702cebc-5abd-4512-90f0-314d0cb69b81');\n",
              "          const dataTable =\n",
              "            await google.colab.kernel.invokeFunction('convertToInteractive',\n",
              "                                                     [key], {});\n",
              "          if (!dataTable) return;\n",
              "\n",
              "          const docLinkHtml = 'Like what you see? Visit the ' +\n",
              "            '<a target=\"_blank\" href=https://colab.research.google.com/notebooks/data_table.ipynb>data table notebook</a>'\n",
              "            + ' to learn more about interactive tables.';\n",
              "          element.innerHTML = '';\n",
              "          dataTable['output_type'] = 'display_data';\n",
              "          await google.colab.output.renderOutput(dataTable, element);\n",
              "          const docLink = document.createElement('div');\n",
              "          docLink.innerHTML = docLinkHtml;\n",
              "          element.appendChild(docLink);\n",
              "        }\n",
              "      </script>\n",
              "    </div>\n",
              "  </div>\n",
              "  "
            ]
          },
          "metadata": {},
          "execution_count": 49
        }
      ]
    },
    {
      "cell_type": "markdown",
      "metadata": {
        "id": "PZK6NhA58MiB"
      },
      "source": [
        "Computing condtional means based ont the number of rooms can be done using the groupby command. We can see that there is a not so strong link between the number of rooms and the apartment price."
      ]
    },
    {
      "cell_type": "code",
      "metadata": {
        "id": "hKnQqwBq7npA",
        "colab": {
          "base_uri": "https://localhost:8080/"
        },
        "outputId": "b11330ce-84aa-4faf-b008-427d6ae24faa"
      },
      "source": [
        "means = apartments.groupby('nb_chambres').mean()\n",
        "means['prix']"
      ],
      "execution_count": null,
      "outputs": [
        {
          "output_type": "execute_result",
          "data": {
            "text/plain": [
              "nb_chambres\n",
              "1    8.806393e+05\n",
              "2    1.217993e+06\n",
              "3    1.401404e+06\n",
              "4    1.526775e+06\n",
              "5    1.483041e+06\n",
              "6    1.916250e+06\n",
              "Name: prix, dtype: float64"
            ]
          },
          "metadata": {},
          "execution_count": 35
        }
      ]
    },
    {
      "cell_type": "markdown",
      "metadata": {
        "id": "j9IwZl84dJeO"
      },
      "source": [
        "#**STEP 4: Regression Analysis**"
      ]
    },
    {
      "cell_type": "markdown",
      "metadata": {
        "id": "qA_SluNd5aZe"
      },
      "source": [
        "**Simple regression model**"
      ]
    },
    {
      "cell_type": "markdown",
      "metadata": {
        "id": "KWfg3efIqRZJ"
      },
      "source": [
        "Now we understand the target and feature variables, we can start making a model to model the target price variable. We will consider a regression model here for ease of exposition and interpreation. The objective function for the regression model is squared Euclidian distance between the target variable and the predicted target variable from the model implied by their parameters.\n",
        "\n",
        "The estimation method is ordinary least squares (OLS). The paramaters to optimise for in the simple regression model, that is a straight line, is the constant and the slope.\n",
        "\n",
        "Let us start by such a simple regression model predicting prices with the surface variable. The model can be written as:\n",
        "\n",
        "$$price_i = \\alpha + \\beta \\; surface_i + \\varepsilon_i$$\n",
        "\n",
        "and the parameters to estimate are $\\alpha$ and $\\beta$. The OLS method minimises the sum of squared residuals, that is $\\sum_{i=1}^n \\varepsilon_i^2$. The solution of this method are known in closed form and directly computed for us in Python.\n"
      ]
    },
    {
      "cell_type": "markdown",
      "metadata": {
        "id": "cZA5aj4so4Sv"
      },
      "source": [
        "There are different python functions for estimating the regression model. We show two below. One require the variables in a dataset, in our case \"apartments\". The second allows directly using the variable we defined before. We import also another library for estimating the models."
      ]
    },
    {
      "cell_type": "code",
      "metadata": {
        "id": "9dTBBqJtdoi1",
        "colab": {
          "base_uri": "https://localhost:8080/"
        },
        "outputId": "34bb2523-dfc8-493c-842c-f6c87d8adfcf"
      },
      "source": [
        "import statsmodels.formula.api as smf"
      ],
      "execution_count": null,
      "outputs": [
        {
          "output_type": "stream",
          "name": "stderr",
          "text": [
            "/usr/local/lib/python3.7/dist-packages/statsmodels/tools/_testing.py:19: FutureWarning: pandas.util.testing is deprecated. Use the functions in the public API at pandas.testing instead.\n",
            "  import pandas.util.testing as tm\n"
          ]
        }
      ]
    },
    {
      "cell_type": "code",
      "metadata": {
        "id": "W3DgglVPgDpZ",
        "colab": {
          "base_uri": "https://localhost:8080/"
        },
        "outputId": "2ae4a7e2-99d8-46fc-cb57-6cc695ed7c56"
      },
      "source": [
        "formula = 'prix ~ surface'\n",
        "results = smf.ols(formula, apartments).fit()\n",
        "print(results.summary())"
      ],
      "execution_count": null,
      "outputs": [
        {
          "output_type": "stream",
          "name": "stdout",
          "text": [
            "                            OLS Regression Results                            \n",
            "==============================================================================\n",
            "Dep. Variable:                   prix   R-squared:                       0.569\n",
            "Model:                            OLS   Adj. R-squared:                  0.569\n",
            "Method:                 Least Squares   F-statistic:                 1.176e+04\n",
            "Date:                Wed, 27 Apr 2022   Prob (F-statistic):               0.00\n",
            "Time:                        11:01:37   Log-Likelihood:            -1.2464e+05\n",
            "No. Observations:                8899   AIC:                         2.493e+05\n",
            "Df Residuals:                    8897   BIC:                         2.493e+05\n",
            "Df Model:                           1                                         \n",
            "Covariance Type:            nonrobust                                         \n",
            "==============================================================================\n",
            "                 coef    std err          t      P>|t|      [0.025      0.975]\n",
            "------------------------------------------------------------------------------\n",
            "Intercept   3.621e+05   8418.177     43.019      0.000    3.46e+05    3.79e+05\n",
            "surface     8831.4176     81.446    108.433      0.000    8671.765    8991.070\n",
            "==============================================================================\n",
            "Omnibus:                       75.035   Durbin-Watson:                   0.375\n",
            "Prob(Omnibus):                  0.000   Jarque-Bera (JB):               65.144\n",
            "Skew:                           0.156   Prob(JB):                     7.15e-15\n",
            "Kurtosis:                       2.719   Cond. No.                         280.\n",
            "==============================================================================\n",
            "\n",
            "Warnings:\n",
            "[1] Standard Errors assume that the covariance matrix of the errors is correctly specified.\n"
          ]
        }
      ]
    },
    {
      "cell_type": "markdown",
      "metadata": {
        "id": "SnuvWsbk0fg-"
      },
      "source": [
        "Below is another way to do this in Python and you will obtain the same results."
      ]
    },
    {
      "cell_type": "code",
      "metadata": {
        "id": "RBvoF0S5oVPS"
      },
      "source": [
        "from sklearn import linear_model\n",
        "import statsmodels.api as sm\n"
      ],
      "execution_count": null,
      "outputs": []
    },
    {
      "cell_type": "code",
      "metadata": {
        "id": "-4VUh_fkoXMz",
        "colab": {
          "base_uri": "https://localhost:8080/"
        },
        "outputId": "47ba479d-dfd1-493a-a93f-855b1130dee3"
      },
      "source": [
        "Y = price\n",
        "X = surface\n",
        "X = sm.add_constant(X) # adding a constant\n",
        " \n",
        "model = sm.OLS(Y, X).fit() \n",
        "print_model = model.summary()\n",
        "print(print_model)"
      ],
      "execution_count": null,
      "outputs": [
        {
          "output_type": "stream",
          "name": "stdout",
          "text": [
            "                            OLS Regression Results                            \n",
            "==============================================================================\n",
            "Dep. Variable:                   prix   R-squared:                       0.569\n",
            "Model:                            OLS   Adj. R-squared:                  0.569\n",
            "Method:                 Least Squares   F-statistic:                 1.176e+04\n",
            "Date:                Wed, 27 Apr 2022   Prob (F-statistic):               0.00\n",
            "Time:                        11:01:54   Log-Likelihood:            -1.2464e+05\n",
            "No. Observations:                8899   AIC:                         2.493e+05\n",
            "Df Residuals:                    8897   BIC:                         2.493e+05\n",
            "Df Model:                           1                                         \n",
            "Covariance Type:            nonrobust                                         \n",
            "==============================================================================\n",
            "                 coef    std err          t      P>|t|      [0.025      0.975]\n",
            "------------------------------------------------------------------------------\n",
            "const       3.621e+05   8418.177     43.019      0.000    3.46e+05    3.79e+05\n",
            "surface     8831.4176     81.446    108.433      0.000    8671.765    8991.070\n",
            "==============================================================================\n",
            "Omnibus:                       75.035   Durbin-Watson:                   0.375\n",
            "Prob(Omnibus):                  0.000   Jarque-Bera (JB):               65.144\n",
            "Skew:                           0.156   Prob(JB):                     7.15e-15\n",
            "Kurtosis:                       2.719   Cond. No.                         280.\n",
            "==============================================================================\n",
            "\n",
            "Warnings:\n",
            "[1] Standard Errors assume that the covariance matrix of the errors is correctly specified.\n"
          ]
        },
        {
          "output_type": "stream",
          "name": "stderr",
          "text": [
            "/usr/local/lib/python3.7/dist-packages/statsmodels/tsa/tsatools.py:117: FutureWarning: In a future version of pandas all arguments of concat except for the argument 'objs' will be keyword-only\n",
            "  x = pd.concat(x[::order], 1)\n"
          ]
        }
      ]
    },
    {
      "cell_type": "markdown",
      "metadata": {
        "id": "g90OXGql0xJ8"
      },
      "source": [
        "#Interpretation of regression model output"
      ]
    },
    {
      "cell_type": "markdown",
      "metadata": {
        "id": "pKgC9XJS1LMb"
      },
      "source": [
        "Let us focus on the output of the regression model. The first thing we are interested in is the estimated parameters, since they constitute the basis of any prediction machine.\n",
        "\n",
        "The estimated model is \n",
        "\n",
        "$$\\hat{price}_i = 362138.46 + 8831.42 \\; surface_i $$\n",
        "\n",
        "where $\\hat{price}_i$ is the predicted price of the apartment in contrast to the observed $price_i$.\n",
        "\n",
        "Interpretation of the slope 8831.42: the expected increase in asking price for one extra square meter of surface is 8831.42 Euro\n",
        "\n",
        "Interpretation of constant 362138.46: No useful interpretation here since the constant would mean that 362138.46 Euro is the expected price of an apartment with 0 square meter surface.\n"
      ]
    },
    {
      "cell_type": "markdown",
      "metadata": {
        "id": "4ZMYZm823gEu"
      },
      "source": [
        "The quality of the model is usually measured by the Rsquared criterion. This Rsquared measures the amount of price varation that can be explained by the model. The possible values ranges between 0, no explanatory power, and 1, perfect fit. The Rsquared for this model 56.9% and therefore has some explanatory power but there is definitely room for improvement.\n",
        "\n",
        "How can we improve this model? The easiest is to think about other features to add to the model. In our example, we also have the number of rooms which should be explaining the variation in prices as well. "
      ]
    },
    {
      "cell_type": "markdown",
      "metadata": {
        "id": "irWMdKX64hsW"
      },
      "source": [
        "It is important to add the different variables in one model, and not in different models. For example, estimating a regression model with number of rooms, see below, we only get an Rsquared of 21.3%"
      ]
    },
    {
      "cell_type": "code",
      "metadata": {
        "id": "EanfT_TWgsFO",
        "colab": {
          "base_uri": "https://localhost:8080/"
        },
        "outputId": "20bd0563-8f25-4388-9a78-36450932ad04"
      },
      "source": [
        "formula = 'prix ~ nb_chambres'\n",
        "results = smf.ols(formula, apartments).fit()\n",
        "print(results.summary())"
      ],
      "execution_count": null,
      "outputs": [
        {
          "output_type": "stream",
          "name": "stdout",
          "text": [
            "                            OLS Regression Results                            \n",
            "==============================================================================\n",
            "Dep. Variable:                   prix   R-squared:                       0.213\n",
            "Model:                            OLS   Adj. R-squared:                  0.213\n",
            "Method:                 Least Squares   F-statistic:                     2407.\n",
            "Date:                Wed, 27 Apr 2022   Prob (F-statistic):               0.00\n",
            "Time:                        11:02:13   Log-Likelihood:            -1.2733e+05\n",
            "No. Observations:                8899   AIC:                         2.547e+05\n",
            "Df Residuals:                    8897   BIC:                         2.547e+05\n",
            "Df Model:                           1                                         \n",
            "Covariance Type:            nonrobust                                         \n",
            "===============================================================================\n",
            "                  coef    std err          t      P>|t|      [0.025      0.975]\n",
            "-------------------------------------------------------------------------------\n",
            "Intercept    7.964e+05   9428.358     84.469      0.000    7.78e+05    8.15e+05\n",
            "nb_chambres  1.787e+05   3643.357     49.059      0.000    1.72e+05    1.86e+05\n",
            "==============================================================================\n",
            "Omnibus:                     1797.052   Durbin-Watson:                   0.049\n",
            "Prob(Omnibus):                  0.000   Jarque-Bera (JB):              527.150\n",
            "Skew:                          -0.356   Prob(JB):                    3.39e-115\n",
            "Kurtosis:                       2.043   Cond. No.                         6.53\n",
            "==============================================================================\n",
            "\n",
            "Warnings:\n",
            "[1] Standard Errors assume that the covariance matrix of the errors is correctly specified.\n"
          ]
        }
      ]
    },
    {
      "cell_type": "code",
      "metadata": {
        "id": "vZ_TZ1aEp54B",
        "colab": {
          "base_uri": "https://localhost:8080/"
        },
        "outputId": "8a955a25-1144-419d-9ad3-573453433bef"
      },
      "source": [
        "print(results.params)"
      ],
      "execution_count": null,
      "outputs": [
        {
          "output_type": "stream",
          "name": "stdout",
          "text": [
            "Intercept      796399.550351\n",
            "nb_chambres    178739.286185\n",
            "dtype: float64\n"
          ]
        }
      ]
    },
    {
      "cell_type": "markdown",
      "metadata": {
        "id": "zqtSO8iyuNd2"
      },
      "source": [
        "**Multiple regression model**"
      ]
    },
    {
      "cell_type": "markdown",
      "metadata": {
        "id": "ZB_WS5Jc56ei"
      },
      "source": [
        "Now we build a regression model with two features, this is generally called a multiple regression model. The estimation technique does not change.\n",
        "\n",
        "The model we will consider is \n",
        "\n",
        "$$price_i = \\alpha + \\beta_1 \\; surface_i + \\beta_2 \\; nrooms_i + \\varepsilon_i$$\n",
        "\n",
        "Interpretation of the coefficients:\n",
        "\n",
        "$\\beta_1$ measures the impact of a unit change in surface keeping the nrooms fixed\n",
        "\n",
        "$\\beta_2$ measures the impact of a unit change in nrooms keeping the surface fixed\n"
      ]
    },
    {
      "cell_type": "code",
      "metadata": {
        "id": "1eUpQ-eVd0lX",
        "colab": {
          "base_uri": "https://localhost:8080/",
          "height": 380
        },
        "outputId": "39e4c63a-132d-416a-a6bf-befa202f94fc"
      },
      "source": [
        "formula = 'prix ~ 100 + 2'\n",
        "results = smf.ols(formula, apartments).fit()\n",
        "print(results.summary())"
      ],
      "execution_count": null,
      "outputs": [
        {
          "output_type": "error",
          "ename": "PatsyError",
          "evalue": "ignored",
          "traceback": [
            "\u001b[0;31m---------------------------------------------------------------------------\u001b[0m",
            "\u001b[0;31mPatsyError\u001b[0m                                Traceback (most recent call last)",
            "\u001b[0;32m<ipython-input-48-e7adea6baf57>\u001b[0m in \u001b[0;36m<module>\u001b[0;34m()\u001b[0m\n\u001b[1;32m      1\u001b[0m \u001b[0mformula\u001b[0m \u001b[0;34m=\u001b[0m \u001b[0;34m'prix ~ 100 + 2'\u001b[0m\u001b[0;34m\u001b[0m\u001b[0;34m\u001b[0m\u001b[0m\n\u001b[0;32m----> 2\u001b[0;31m \u001b[0mresults\u001b[0m \u001b[0;34m=\u001b[0m \u001b[0msmf\u001b[0m\u001b[0;34m.\u001b[0m\u001b[0mols\u001b[0m\u001b[0;34m(\u001b[0m\u001b[0mformula\u001b[0m\u001b[0;34m,\u001b[0m \u001b[0mapartments\u001b[0m\u001b[0;34m)\u001b[0m\u001b[0;34m.\u001b[0m\u001b[0mfit\u001b[0m\u001b[0;34m(\u001b[0m\u001b[0;34m)\u001b[0m\u001b[0;34m\u001b[0m\u001b[0;34m\u001b[0m\u001b[0m\n\u001b[0m\u001b[1;32m      3\u001b[0m \u001b[0mprint\u001b[0m\u001b[0;34m(\u001b[0m\u001b[0mresults\u001b[0m\u001b[0;34m.\u001b[0m\u001b[0msummary\u001b[0m\u001b[0;34m(\u001b[0m\u001b[0;34m)\u001b[0m\u001b[0;34m)\u001b[0m\u001b[0;34m\u001b[0m\u001b[0;34m\u001b[0m\u001b[0m\n",
            "\u001b[0;32m/usr/local/lib/python3.7/dist-packages/statsmodels/base/model.py\u001b[0m in \u001b[0;36mfrom_formula\u001b[0;34m(cls, formula, data, subset, drop_cols, *args, **kwargs)\u001b[0m\n\u001b[1;32m    157\u001b[0m \u001b[0;34m\u001b[0m\u001b[0m\n\u001b[1;32m    158\u001b[0m         tmp = handle_formula_data(data, None, formula, depth=eval_env,\n\u001b[0;32m--> 159\u001b[0;31m                                   missing=missing)\n\u001b[0m\u001b[1;32m    160\u001b[0m         \u001b[0;34m(\u001b[0m\u001b[0;34m(\u001b[0m\u001b[0mendog\u001b[0m\u001b[0;34m,\u001b[0m \u001b[0mexog\u001b[0m\u001b[0;34m)\u001b[0m\u001b[0;34m,\u001b[0m \u001b[0mmissing_idx\u001b[0m\u001b[0;34m,\u001b[0m \u001b[0mdesign_info\u001b[0m\u001b[0;34m)\u001b[0m \u001b[0;34m=\u001b[0m \u001b[0mtmp\u001b[0m\u001b[0;34m\u001b[0m\u001b[0;34m\u001b[0m\u001b[0m\n\u001b[1;32m    161\u001b[0m \u001b[0;34m\u001b[0m\u001b[0m\n",
            "\u001b[0;32m/usr/local/lib/python3.7/dist-packages/statsmodels/formula/formulatools.py\u001b[0m in \u001b[0;36mhandle_formula_data\u001b[0;34m(Y, X, formula, depth, missing)\u001b[0m\n\u001b[1;32m     63\u001b[0m         \u001b[0;32mif\u001b[0m \u001b[0mdata_util\u001b[0m\u001b[0;34m.\u001b[0m\u001b[0m_is_using_pandas\u001b[0m\u001b[0;34m(\u001b[0m\u001b[0mY\u001b[0m\u001b[0;34m,\u001b[0m \u001b[0;32mNone\u001b[0m\u001b[0;34m)\u001b[0m\u001b[0;34m:\u001b[0m\u001b[0;34m\u001b[0m\u001b[0;34m\u001b[0m\u001b[0m\n\u001b[1;32m     64\u001b[0m             result = dmatrices(formula, Y, depth, return_type='dataframe',\n\u001b[0;32m---> 65\u001b[0;31m                                NA_action=na_action)\n\u001b[0m\u001b[1;32m     66\u001b[0m         \u001b[0;32melse\u001b[0m\u001b[0;34m:\u001b[0m\u001b[0;34m\u001b[0m\u001b[0;34m\u001b[0m\u001b[0m\n\u001b[1;32m     67\u001b[0m             result = dmatrices(formula, Y, depth, return_type='dataframe',\n",
            "\u001b[0;32m/usr/local/lib/python3.7/dist-packages/patsy/highlevel.py\u001b[0m in \u001b[0;36mdmatrices\u001b[0;34m(formula_like, data, eval_env, NA_action, return_type)\u001b[0m\n\u001b[1;32m    308\u001b[0m     \u001b[0meval_env\u001b[0m \u001b[0;34m=\u001b[0m \u001b[0mEvalEnvironment\u001b[0m\u001b[0;34m.\u001b[0m\u001b[0mcapture\u001b[0m\u001b[0;34m(\u001b[0m\u001b[0meval_env\u001b[0m\u001b[0;34m,\u001b[0m \u001b[0mreference\u001b[0m\u001b[0;34m=\u001b[0m\u001b[0;36m1\u001b[0m\u001b[0;34m)\u001b[0m\u001b[0;34m\u001b[0m\u001b[0;34m\u001b[0m\u001b[0m\n\u001b[1;32m    309\u001b[0m     (lhs, rhs) = _do_highlevel_design(formula_like, data, eval_env,\n\u001b[0;32m--> 310\u001b[0;31m                                       NA_action, return_type)\n\u001b[0m\u001b[1;32m    311\u001b[0m     \u001b[0;32mif\u001b[0m \u001b[0mlhs\u001b[0m\u001b[0;34m.\u001b[0m\u001b[0mshape\u001b[0m\u001b[0;34m[\u001b[0m\u001b[0;36m1\u001b[0m\u001b[0;34m]\u001b[0m \u001b[0;34m==\u001b[0m \u001b[0;36m0\u001b[0m\u001b[0;34m:\u001b[0m\u001b[0;34m\u001b[0m\u001b[0;34m\u001b[0m\u001b[0m\n\u001b[1;32m    312\u001b[0m         \u001b[0;32mraise\u001b[0m \u001b[0mPatsyError\u001b[0m\u001b[0;34m(\u001b[0m\u001b[0;34m\"model is missing required outcome variables\"\u001b[0m\u001b[0;34m)\u001b[0m\u001b[0;34m\u001b[0m\u001b[0;34m\u001b[0m\u001b[0m\n",
            "\u001b[0;32m/usr/local/lib/python3.7/dist-packages/patsy/highlevel.py\u001b[0m in \u001b[0;36m_do_highlevel_design\u001b[0;34m(formula_like, data, eval_env, NA_action, return_type)\u001b[0m\n\u001b[1;32m    163\u001b[0m         \u001b[0;32mreturn\u001b[0m \u001b[0miter\u001b[0m\u001b[0;34m(\u001b[0m\u001b[0;34m[\u001b[0m\u001b[0mdata\u001b[0m\u001b[0;34m]\u001b[0m\u001b[0;34m)\u001b[0m\u001b[0;34m\u001b[0m\u001b[0;34m\u001b[0m\u001b[0m\n\u001b[1;32m    164\u001b[0m     design_infos = _try_incr_builders(formula_like, data_iter_maker, eval_env,\n\u001b[0;32m--> 165\u001b[0;31m                                       NA_action)\n\u001b[0m\u001b[1;32m    166\u001b[0m     \u001b[0;32mif\u001b[0m \u001b[0mdesign_infos\u001b[0m \u001b[0;32mis\u001b[0m \u001b[0;32mnot\u001b[0m \u001b[0;32mNone\u001b[0m\u001b[0;34m:\u001b[0m\u001b[0;34m\u001b[0m\u001b[0;34m\u001b[0m\u001b[0m\n\u001b[1;32m    167\u001b[0m         return build_design_matrices(design_infos, data,\n",
            "\u001b[0;32m/usr/local/lib/python3.7/dist-packages/patsy/highlevel.py\u001b[0m in \u001b[0;36m_try_incr_builders\u001b[0;34m(formula_like, data_iter_maker, eval_env, NA_action)\u001b[0m\n\u001b[1;32m     60\u001b[0m                 \"ascii-only, or else upgrade to Python 3.\")\n\u001b[1;32m     61\u001b[0m     \u001b[0;32mif\u001b[0m \u001b[0misinstance\u001b[0m\u001b[0;34m(\u001b[0m\u001b[0mformula_like\u001b[0m\u001b[0;34m,\u001b[0m \u001b[0mstr\u001b[0m\u001b[0;34m)\u001b[0m\u001b[0;34m:\u001b[0m\u001b[0;34m\u001b[0m\u001b[0;34m\u001b[0m\u001b[0m\n\u001b[0;32m---> 62\u001b[0;31m         \u001b[0mformula_like\u001b[0m \u001b[0;34m=\u001b[0m \u001b[0mModelDesc\u001b[0m\u001b[0;34m.\u001b[0m\u001b[0mfrom_formula\u001b[0m\u001b[0;34m(\u001b[0m\u001b[0mformula_like\u001b[0m\u001b[0;34m)\u001b[0m\u001b[0;34m\u001b[0m\u001b[0;34m\u001b[0m\u001b[0m\n\u001b[0m\u001b[1;32m     63\u001b[0m         \u001b[0;31m# fallthrough\u001b[0m\u001b[0;34m\u001b[0m\u001b[0;34m\u001b[0m\u001b[0;34m\u001b[0m\u001b[0m\n\u001b[1;32m     64\u001b[0m     \u001b[0;32mif\u001b[0m \u001b[0misinstance\u001b[0m\u001b[0;34m(\u001b[0m\u001b[0mformula_like\u001b[0m\u001b[0;34m,\u001b[0m \u001b[0mModelDesc\u001b[0m\u001b[0;34m)\u001b[0m\u001b[0;34m:\u001b[0m\u001b[0;34m\u001b[0m\u001b[0;34m\u001b[0m\u001b[0m\n",
            "\u001b[0;32m/usr/local/lib/python3.7/dist-packages/patsy/desc.py\u001b[0m in \u001b[0;36mfrom_formula\u001b[0;34m(cls, tree_or_string)\u001b[0m\n\u001b[1;32m    163\u001b[0m         \u001b[0;32melse\u001b[0m\u001b[0;34m:\u001b[0m\u001b[0;34m\u001b[0m\u001b[0;34m\u001b[0m\u001b[0m\n\u001b[1;32m    164\u001b[0m             \u001b[0mtree\u001b[0m \u001b[0;34m=\u001b[0m \u001b[0mparse_formula\u001b[0m\u001b[0;34m(\u001b[0m\u001b[0mtree_or_string\u001b[0m\u001b[0;34m)\u001b[0m\u001b[0;34m\u001b[0m\u001b[0;34m\u001b[0m\u001b[0m\n\u001b[0;32m--> 165\u001b[0;31m         \u001b[0mvalue\u001b[0m \u001b[0;34m=\u001b[0m \u001b[0mEvaluator\u001b[0m\u001b[0;34m(\u001b[0m\u001b[0;34m)\u001b[0m\u001b[0;34m.\u001b[0m\u001b[0meval\u001b[0m\u001b[0;34m(\u001b[0m\u001b[0mtree\u001b[0m\u001b[0;34m,\u001b[0m \u001b[0mrequire_evalexpr\u001b[0m\u001b[0;34m=\u001b[0m\u001b[0;32mFalse\u001b[0m\u001b[0;34m)\u001b[0m\u001b[0;34m\u001b[0m\u001b[0;34m\u001b[0m\u001b[0m\n\u001b[0m\u001b[1;32m    166\u001b[0m         \u001b[0;32massert\u001b[0m \u001b[0misinstance\u001b[0m\u001b[0;34m(\u001b[0m\u001b[0mvalue\u001b[0m\u001b[0;34m,\u001b[0m \u001b[0mcls\u001b[0m\u001b[0;34m)\u001b[0m\u001b[0;34m\u001b[0m\u001b[0;34m\u001b[0m\u001b[0m\n\u001b[1;32m    167\u001b[0m         \u001b[0;32mreturn\u001b[0m \u001b[0mvalue\u001b[0m\u001b[0;34m\u001b[0m\u001b[0;34m\u001b[0m\u001b[0m\n",
            "\u001b[0;32m/usr/local/lib/python3.7/dist-packages/patsy/desc.py\u001b[0m in \u001b[0;36meval\u001b[0;34m(self, tree, require_evalexpr)\u001b[0m\n\u001b[1;32m    398\u001b[0m                                 \u001b[0;34m\"'%s' operator\"\u001b[0m \u001b[0;34m%\u001b[0m \u001b[0;34m(\u001b[0m\u001b[0mtree\u001b[0m\u001b[0;34m.\u001b[0m\u001b[0mtype\u001b[0m\u001b[0;34m,\u001b[0m\u001b[0;34m)\u001b[0m\u001b[0;34m,\u001b[0m\u001b[0;34m\u001b[0m\u001b[0;34m\u001b[0m\u001b[0m\n\u001b[1;32m    399\u001b[0m                                 tree.token)\n\u001b[0;32m--> 400\u001b[0;31m         \u001b[0mresult\u001b[0m \u001b[0;34m=\u001b[0m \u001b[0mself\u001b[0m\u001b[0;34m.\u001b[0m\u001b[0m_evaluators\u001b[0m\u001b[0;34m[\u001b[0m\u001b[0mkey\u001b[0m\u001b[0;34m]\u001b[0m\u001b[0;34m(\u001b[0m\u001b[0mself\u001b[0m\u001b[0;34m,\u001b[0m \u001b[0mtree\u001b[0m\u001b[0;34m)\u001b[0m\u001b[0;34m\u001b[0m\u001b[0;34m\u001b[0m\u001b[0m\n\u001b[0m\u001b[1;32m    401\u001b[0m         \u001b[0;32mif\u001b[0m \u001b[0mrequire_evalexpr\u001b[0m \u001b[0;32mand\u001b[0m \u001b[0;32mnot\u001b[0m \u001b[0misinstance\u001b[0m\u001b[0;34m(\u001b[0m\u001b[0mresult\u001b[0m\u001b[0;34m,\u001b[0m \u001b[0mIntermediateExpr\u001b[0m\u001b[0;34m)\u001b[0m\u001b[0;34m:\u001b[0m\u001b[0;34m\u001b[0m\u001b[0;34m\u001b[0m\u001b[0m\n\u001b[1;32m    402\u001b[0m             \u001b[0;32mif\u001b[0m \u001b[0misinstance\u001b[0m\u001b[0;34m(\u001b[0m\u001b[0mresult\u001b[0m\u001b[0;34m,\u001b[0m \u001b[0mModelDesc\u001b[0m\u001b[0;34m)\u001b[0m\u001b[0;34m:\u001b[0m\u001b[0;34m\u001b[0m\u001b[0;34m\u001b[0m\u001b[0m\n",
            "\u001b[0;32m/usr/local/lib/python3.7/dist-packages/patsy/desc.py\u001b[0m in \u001b[0;36m_eval_any_tilde\u001b[0;34m(evaluator, tree)\u001b[0m\n\u001b[1;32m    219\u001b[0m \u001b[0;34m\u001b[0m\u001b[0m\n\u001b[1;32m    220\u001b[0m \u001b[0;32mdef\u001b[0m \u001b[0m_eval_any_tilde\u001b[0m\u001b[0;34m(\u001b[0m\u001b[0mevaluator\u001b[0m\u001b[0;34m,\u001b[0m \u001b[0mtree\u001b[0m\u001b[0;34m)\u001b[0m\u001b[0;34m:\u001b[0m\u001b[0;34m\u001b[0m\u001b[0;34m\u001b[0m\u001b[0m\n\u001b[0;32m--> 221\u001b[0;31m     \u001b[0mexprs\u001b[0m \u001b[0;34m=\u001b[0m \u001b[0;34m[\u001b[0m\u001b[0mevaluator\u001b[0m\u001b[0;34m.\u001b[0m\u001b[0meval\u001b[0m\u001b[0;34m(\u001b[0m\u001b[0marg\u001b[0m\u001b[0;34m)\u001b[0m \u001b[0;32mfor\u001b[0m \u001b[0marg\u001b[0m \u001b[0;32min\u001b[0m \u001b[0mtree\u001b[0m\u001b[0;34m.\u001b[0m\u001b[0margs\u001b[0m\u001b[0;34m]\u001b[0m\u001b[0;34m\u001b[0m\u001b[0;34m\u001b[0m\u001b[0m\n\u001b[0m\u001b[1;32m    222\u001b[0m     \u001b[0;32mif\u001b[0m \u001b[0mlen\u001b[0m\u001b[0;34m(\u001b[0m\u001b[0mexprs\u001b[0m\u001b[0;34m)\u001b[0m \u001b[0;34m==\u001b[0m \u001b[0;36m1\u001b[0m\u001b[0;34m:\u001b[0m\u001b[0;34m\u001b[0m\u001b[0;34m\u001b[0m\u001b[0m\n\u001b[1;32m    223\u001b[0m         \u001b[0;31m# Formula was like: \"~ foo\"\u001b[0m\u001b[0;34m\u001b[0m\u001b[0;34m\u001b[0m\u001b[0;34m\u001b[0m\u001b[0m\n",
            "\u001b[0;32m/usr/local/lib/python3.7/dist-packages/patsy/desc.py\u001b[0m in \u001b[0;36m<listcomp>\u001b[0;34m(.0)\u001b[0m\n\u001b[1;32m    219\u001b[0m \u001b[0;34m\u001b[0m\u001b[0m\n\u001b[1;32m    220\u001b[0m \u001b[0;32mdef\u001b[0m \u001b[0m_eval_any_tilde\u001b[0m\u001b[0;34m(\u001b[0m\u001b[0mevaluator\u001b[0m\u001b[0;34m,\u001b[0m \u001b[0mtree\u001b[0m\u001b[0;34m)\u001b[0m\u001b[0;34m:\u001b[0m\u001b[0;34m\u001b[0m\u001b[0;34m\u001b[0m\u001b[0m\n\u001b[0;32m--> 221\u001b[0;31m     \u001b[0mexprs\u001b[0m \u001b[0;34m=\u001b[0m \u001b[0;34m[\u001b[0m\u001b[0mevaluator\u001b[0m\u001b[0;34m.\u001b[0m\u001b[0meval\u001b[0m\u001b[0;34m(\u001b[0m\u001b[0marg\u001b[0m\u001b[0;34m)\u001b[0m \u001b[0;32mfor\u001b[0m \u001b[0marg\u001b[0m \u001b[0;32min\u001b[0m \u001b[0mtree\u001b[0m\u001b[0;34m.\u001b[0m\u001b[0margs\u001b[0m\u001b[0;34m]\u001b[0m\u001b[0;34m\u001b[0m\u001b[0;34m\u001b[0m\u001b[0m\n\u001b[0m\u001b[1;32m    222\u001b[0m     \u001b[0;32mif\u001b[0m \u001b[0mlen\u001b[0m\u001b[0;34m(\u001b[0m\u001b[0mexprs\u001b[0m\u001b[0;34m)\u001b[0m \u001b[0;34m==\u001b[0m \u001b[0;36m1\u001b[0m\u001b[0;34m:\u001b[0m\u001b[0;34m\u001b[0m\u001b[0;34m\u001b[0m\u001b[0m\n\u001b[1;32m    223\u001b[0m         \u001b[0;31m# Formula was like: \"~ foo\"\u001b[0m\u001b[0;34m\u001b[0m\u001b[0;34m\u001b[0m\u001b[0;34m\u001b[0m\u001b[0m\n",
            "\u001b[0;32m/usr/local/lib/python3.7/dist-packages/patsy/desc.py\u001b[0m in \u001b[0;36meval\u001b[0;34m(self, tree, require_evalexpr)\u001b[0m\n\u001b[1;32m    398\u001b[0m                                 \u001b[0;34m\"'%s' operator\"\u001b[0m \u001b[0;34m%\u001b[0m \u001b[0;34m(\u001b[0m\u001b[0mtree\u001b[0m\u001b[0;34m.\u001b[0m\u001b[0mtype\u001b[0m\u001b[0;34m,\u001b[0m\u001b[0;34m)\u001b[0m\u001b[0;34m,\u001b[0m\u001b[0;34m\u001b[0m\u001b[0;34m\u001b[0m\u001b[0m\n\u001b[1;32m    399\u001b[0m                                 tree.token)\n\u001b[0;32m--> 400\u001b[0;31m         \u001b[0mresult\u001b[0m \u001b[0;34m=\u001b[0m \u001b[0mself\u001b[0m\u001b[0;34m.\u001b[0m\u001b[0m_evaluators\u001b[0m\u001b[0;34m[\u001b[0m\u001b[0mkey\u001b[0m\u001b[0;34m]\u001b[0m\u001b[0;34m(\u001b[0m\u001b[0mself\u001b[0m\u001b[0;34m,\u001b[0m \u001b[0mtree\u001b[0m\u001b[0;34m)\u001b[0m\u001b[0;34m\u001b[0m\u001b[0;34m\u001b[0m\u001b[0m\n\u001b[0m\u001b[1;32m    401\u001b[0m         \u001b[0;32mif\u001b[0m \u001b[0mrequire_evalexpr\u001b[0m \u001b[0;32mand\u001b[0m \u001b[0;32mnot\u001b[0m \u001b[0misinstance\u001b[0m\u001b[0;34m(\u001b[0m\u001b[0mresult\u001b[0m\u001b[0;34m,\u001b[0m \u001b[0mIntermediateExpr\u001b[0m\u001b[0;34m)\u001b[0m\u001b[0;34m:\u001b[0m\u001b[0;34m\u001b[0m\u001b[0;34m\u001b[0m\u001b[0m\n\u001b[1;32m    402\u001b[0m             \u001b[0;32mif\u001b[0m \u001b[0misinstance\u001b[0m\u001b[0;34m(\u001b[0m\u001b[0mresult\u001b[0m\u001b[0;34m,\u001b[0m \u001b[0mModelDesc\u001b[0m\u001b[0;34m)\u001b[0m\u001b[0;34m:\u001b[0m\u001b[0;34m\u001b[0m\u001b[0;34m\u001b[0m\u001b[0m\n",
            "\u001b[0;32m/usr/local/lib/python3.7/dist-packages/patsy/desc.py\u001b[0m in \u001b[0;36m_eval_binary_plus\u001b[0;34m(evaluator, tree)\u001b[0m\n\u001b[1;32m    231\u001b[0m \u001b[0;34m\u001b[0m\u001b[0m\n\u001b[1;32m    232\u001b[0m \u001b[0;32mdef\u001b[0m \u001b[0m_eval_binary_plus\u001b[0m\u001b[0;34m(\u001b[0m\u001b[0mevaluator\u001b[0m\u001b[0;34m,\u001b[0m \u001b[0mtree\u001b[0m\u001b[0;34m)\u001b[0m\u001b[0;34m:\u001b[0m\u001b[0;34m\u001b[0m\u001b[0;34m\u001b[0m\u001b[0m\n\u001b[0;32m--> 233\u001b[0;31m     \u001b[0mleft_expr\u001b[0m \u001b[0;34m=\u001b[0m \u001b[0mevaluator\u001b[0m\u001b[0;34m.\u001b[0m\u001b[0meval\u001b[0m\u001b[0;34m(\u001b[0m\u001b[0mtree\u001b[0m\u001b[0;34m.\u001b[0m\u001b[0margs\u001b[0m\u001b[0;34m[\u001b[0m\u001b[0;36m0\u001b[0m\u001b[0;34m]\u001b[0m\u001b[0;34m)\u001b[0m\u001b[0;34m\u001b[0m\u001b[0;34m\u001b[0m\u001b[0m\n\u001b[0m\u001b[1;32m    234\u001b[0m     \u001b[0;32mif\u001b[0m \u001b[0mtree\u001b[0m\u001b[0;34m.\u001b[0m\u001b[0margs\u001b[0m\u001b[0;34m[\u001b[0m\u001b[0;36m1\u001b[0m\u001b[0;34m]\u001b[0m\u001b[0;34m.\u001b[0m\u001b[0mtype\u001b[0m \u001b[0;34m==\u001b[0m \u001b[0;34m\"ZERO\"\u001b[0m\u001b[0;34m:\u001b[0m\u001b[0;34m\u001b[0m\u001b[0;34m\u001b[0m\u001b[0m\n\u001b[1;32m    235\u001b[0m         \u001b[0;32mreturn\u001b[0m \u001b[0mIntermediateExpr\u001b[0m\u001b[0;34m(\u001b[0m\u001b[0;32mFalse\u001b[0m\u001b[0;34m,\u001b[0m \u001b[0;32mNone\u001b[0m\u001b[0;34m,\u001b[0m \u001b[0;32mTrue\u001b[0m\u001b[0;34m,\u001b[0m \u001b[0mleft_expr\u001b[0m\u001b[0;34m.\u001b[0m\u001b[0mterms\u001b[0m\u001b[0;34m)\u001b[0m\u001b[0;34m\u001b[0m\u001b[0;34m\u001b[0m\u001b[0m\n",
            "\u001b[0;32m/usr/local/lib/python3.7/dist-packages/patsy/desc.py\u001b[0m in \u001b[0;36meval\u001b[0;34m(self, tree, require_evalexpr)\u001b[0m\n\u001b[1;32m    398\u001b[0m                                 \u001b[0;34m\"'%s' operator\"\u001b[0m \u001b[0;34m%\u001b[0m \u001b[0;34m(\u001b[0m\u001b[0mtree\u001b[0m\u001b[0;34m.\u001b[0m\u001b[0mtype\u001b[0m\u001b[0;34m,\u001b[0m\u001b[0;34m)\u001b[0m\u001b[0;34m,\u001b[0m\u001b[0;34m\u001b[0m\u001b[0;34m\u001b[0m\u001b[0m\n\u001b[1;32m    399\u001b[0m                                 tree.token)\n\u001b[0;32m--> 400\u001b[0;31m         \u001b[0mresult\u001b[0m \u001b[0;34m=\u001b[0m \u001b[0mself\u001b[0m\u001b[0;34m.\u001b[0m\u001b[0m_evaluators\u001b[0m\u001b[0;34m[\u001b[0m\u001b[0mkey\u001b[0m\u001b[0;34m]\u001b[0m\u001b[0;34m(\u001b[0m\u001b[0mself\u001b[0m\u001b[0;34m,\u001b[0m \u001b[0mtree\u001b[0m\u001b[0;34m)\u001b[0m\u001b[0;34m\u001b[0m\u001b[0;34m\u001b[0m\u001b[0m\n\u001b[0m\u001b[1;32m    401\u001b[0m         \u001b[0;32mif\u001b[0m \u001b[0mrequire_evalexpr\u001b[0m \u001b[0;32mand\u001b[0m \u001b[0;32mnot\u001b[0m \u001b[0misinstance\u001b[0m\u001b[0;34m(\u001b[0m\u001b[0mresult\u001b[0m\u001b[0;34m,\u001b[0m \u001b[0mIntermediateExpr\u001b[0m\u001b[0;34m)\u001b[0m\u001b[0;34m:\u001b[0m\u001b[0;34m\u001b[0m\u001b[0;34m\u001b[0m\u001b[0m\n\u001b[1;32m    402\u001b[0m             \u001b[0;32mif\u001b[0m \u001b[0misinstance\u001b[0m\u001b[0;34m(\u001b[0m\u001b[0mresult\u001b[0m\u001b[0;34m,\u001b[0m \u001b[0mModelDesc\u001b[0m\u001b[0;34m)\u001b[0m\u001b[0;34m:\u001b[0m\u001b[0;34m\u001b[0m\u001b[0;34m\u001b[0m\u001b[0m\n",
            "\u001b[0;32m/usr/local/lib/python3.7/dist-packages/patsy/desc.py\u001b[0m in \u001b[0;36m_eval_number\u001b[0;34m(evaluator, tree)\u001b[0m\n\u001b[1;32m    353\u001b[0m \u001b[0;32mdef\u001b[0m \u001b[0m_eval_number\u001b[0m\u001b[0;34m(\u001b[0m\u001b[0mevaluator\u001b[0m\u001b[0;34m,\u001b[0m \u001b[0mtree\u001b[0m\u001b[0;34m)\u001b[0m\u001b[0;34m:\u001b[0m\u001b[0;34m\u001b[0m\u001b[0;34m\u001b[0m\u001b[0m\n\u001b[1;32m    354\u001b[0m     raise PatsyError(\"numbers besides '0' and '1' are \"\n\u001b[0;32m--> 355\u001b[0;31m                         \"only allowed with **\", tree)\n\u001b[0m\u001b[1;32m    356\u001b[0m \u001b[0;34m\u001b[0m\u001b[0m\n\u001b[1;32m    357\u001b[0m \u001b[0;32mdef\u001b[0m \u001b[0m_eval_python_expr\u001b[0m\u001b[0;34m(\u001b[0m\u001b[0mevaluator\u001b[0m\u001b[0;34m,\u001b[0m \u001b[0mtree\u001b[0m\u001b[0;34m)\u001b[0m\u001b[0;34m:\u001b[0m\u001b[0;34m\u001b[0m\u001b[0;34m\u001b[0m\u001b[0m\n",
            "\u001b[0;31mPatsyError\u001b[0m: numbers besides '0' and '1' are only allowed with **\n    prix ~ 100 + 2\n           ^^^"
          ]
        }
      ]
    },
    {
      "cell_type": "markdown",
      "metadata": {
        "id": "Hx3UGQSRKmgu"
      },
      "source": [
        "#Interpretation of regression model output"
      ]
    },
    {
      "cell_type": "markdown",
      "metadata": {
        "id": "1jVyz4zoKddR"
      },
      "source": [
        "Keeping the number of bedrooms constant, the expected increase in price for one extra square meter of surface is 13021 Euro.\n",
        "\n",
        "Keeping the surface constant, the expected decrease in price for one extra room is 170883 Euro. Counterintuitive!\n"
      ]
    },
    {
      "cell_type": "markdown",
      "metadata": {
        "id": "ZEzPL95zJg31"
      },
      "source": [
        "The estimated model is \n",
        "\n",
        "$$\\hat{price}_i = 355608 + 13021 \\; surface_i  −170883 \\; nrooms_i$$\n"
      ]
    },
    {
      "cell_type": "markdown",
      "metadata": {
        "id": "xmleAL2sJXha"
      },
      "source": [
        "The Rsquared for this model is now 63.6% which is a relevant increase compared to the model with surface only. However, improvements are certainly still possible"
      ]
    },
    {
      "cell_type": "markdown",
      "metadata": {
        "id": "zVVNUTh4M1NS"
      },
      "source": [
        "This goes beyond the learning goals, but one improvement is the inclusion of interaction terms. In our model, having the impact of surface depend on the number of rooms, and vice versa the impact of rooms depend on the surface makes quite a lot of sense. To include such an effect in the model, we can add a new feature variable to the model which is the product of surface and nrooms."
      ]
    },
    {
      "cell_type": "code",
      "metadata": {
        "id": "0u3YWhaJKuWH"
      },
      "source": [
        "apartments['surfrooms']=surface*nrooms"
      ],
      "execution_count": null,
      "outputs": []
    },
    {
      "cell_type": "code",
      "metadata": {
        "colab": {
          "base_uri": "https://localhost:8080/",
          "height": 386
        },
        "id": "TcYwbYuGK_Mo",
        "outputId": "cf961995-5d93-4e6a-9200-a8dc344f78f5"
      },
      "source": [
        "apartments.head()"
      ],
      "execution_count": null,
      "outputs": [
        {
          "output_type": "execute_result",
          "data": {
            "text/plain": [
              "   number  codeinsee  codepostal     cp  etage  idagence  idannonce  idtiers  \\\n",
              "0      11     750116       75016  75016      0    178817  144013899   227883   \n",
              "1       8     750110       75010  75010      0     12089  149750677     3765   \n",
              "2       6     750118       75018  75018      0    115811  138648733   108873   \n",
              "3      16     750110       75010  75010      0     12089  149750679     3765   \n",
              "4       4     750116       75016  75016      0     97567  147153067   145098   \n",
              "\n",
              "   idtypechauffage  idtypecommerce  ... position    prix  si_balcon  si_sdEau  \\\n",
              "0                0               0  ...       11   59000          1         0   \n",
              "1                0               0  ...        8   77500          0         0   \n",
              "2                0               0  ...        6   94000          0         0   \n",
              "3                0               0  ...       16   96000          0         0   \n",
              "4                0               0  ...        4  100000          0         0   \n",
              "\n",
              "   si_sdbain  surface   typedebien         ville           pricedeciles  \\\n",
              "0          0    69.00  Appartement  Paris 16√®me  (58999.999, 494800.0]   \n",
              "1          0     8.49  Appartement  Paris 10√®me  (58999.999, 494800.0]   \n",
              "2          0    37.00  Appartement  Paris 18√®me  (58999.999, 494800.0]   \n",
              "3          0    10.26  Appartement  Paris 10√®me  (58999.999, 494800.0]   \n",
              "4          0    14.93  Appartement  Paris 16√®me  (58999.999, 494800.0]   \n",
              "\n",
              "   surfrooms  \n",
              "0     138.00  \n",
              "1      16.98  \n",
              "2      37.00  \n",
              "3      20.52  \n",
              "4      14.93  \n",
              "\n",
              "[5 rows x 26 columns]"
            ],
            "text/html": [
              "\n",
              "  <div id=\"df-417b080a-2431-4ddd-94f7-880de7bbee32\">\n",
              "    <div class=\"colab-df-container\">\n",
              "      <div>\n",
              "<style scoped>\n",
              "    .dataframe tbody tr th:only-of-type {\n",
              "        vertical-align: middle;\n",
              "    }\n",
              "\n",
              "    .dataframe tbody tr th {\n",
              "        vertical-align: top;\n",
              "    }\n",
              "\n",
              "    .dataframe thead th {\n",
              "        text-align: right;\n",
              "    }\n",
              "</style>\n",
              "<table border=\"1\" class=\"dataframe\">\n",
              "  <thead>\n",
              "    <tr style=\"text-align: right;\">\n",
              "      <th></th>\n",
              "      <th>number</th>\n",
              "      <th>codeinsee</th>\n",
              "      <th>codepostal</th>\n",
              "      <th>cp</th>\n",
              "      <th>etage</th>\n",
              "      <th>idagence</th>\n",
              "      <th>idannonce</th>\n",
              "      <th>idtiers</th>\n",
              "      <th>idtypechauffage</th>\n",
              "      <th>idtypecommerce</th>\n",
              "      <th>...</th>\n",
              "      <th>position</th>\n",
              "      <th>prix</th>\n",
              "      <th>si_balcon</th>\n",
              "      <th>si_sdEau</th>\n",
              "      <th>si_sdbain</th>\n",
              "      <th>surface</th>\n",
              "      <th>typedebien</th>\n",
              "      <th>ville</th>\n",
              "      <th>pricedeciles</th>\n",
              "      <th>surfrooms</th>\n",
              "    </tr>\n",
              "  </thead>\n",
              "  <tbody>\n",
              "    <tr>\n",
              "      <th>0</th>\n",
              "      <td>11</td>\n",
              "      <td>750116</td>\n",
              "      <td>75016</td>\n",
              "      <td>75016</td>\n",
              "      <td>0</td>\n",
              "      <td>178817</td>\n",
              "      <td>144013899</td>\n",
              "      <td>227883</td>\n",
              "      <td>0</td>\n",
              "      <td>0</td>\n",
              "      <td>...</td>\n",
              "      <td>11</td>\n",
              "      <td>59000</td>\n",
              "      <td>1</td>\n",
              "      <td>0</td>\n",
              "      <td>0</td>\n",
              "      <td>69.00</td>\n",
              "      <td>Appartement</td>\n",
              "      <td>Paris 16√®me</td>\n",
              "      <td>(58999.999, 494800.0]</td>\n",
              "      <td>138.00</td>\n",
              "    </tr>\n",
              "    <tr>\n",
              "      <th>1</th>\n",
              "      <td>8</td>\n",
              "      <td>750110</td>\n",
              "      <td>75010</td>\n",
              "      <td>75010</td>\n",
              "      <td>0</td>\n",
              "      <td>12089</td>\n",
              "      <td>149750677</td>\n",
              "      <td>3765</td>\n",
              "      <td>0</td>\n",
              "      <td>0</td>\n",
              "      <td>...</td>\n",
              "      <td>8</td>\n",
              "      <td>77500</td>\n",
              "      <td>0</td>\n",
              "      <td>0</td>\n",
              "      <td>0</td>\n",
              "      <td>8.49</td>\n",
              "      <td>Appartement</td>\n",
              "      <td>Paris 10√®me</td>\n",
              "      <td>(58999.999, 494800.0]</td>\n",
              "      <td>16.98</td>\n",
              "    </tr>\n",
              "    <tr>\n",
              "      <th>2</th>\n",
              "      <td>6</td>\n",
              "      <td>750118</td>\n",
              "      <td>75018</td>\n",
              "      <td>75018</td>\n",
              "      <td>0</td>\n",
              "      <td>115811</td>\n",
              "      <td>138648733</td>\n",
              "      <td>108873</td>\n",
              "      <td>0</td>\n",
              "      <td>0</td>\n",
              "      <td>...</td>\n",
              "      <td>6</td>\n",
              "      <td>94000</td>\n",
              "      <td>0</td>\n",
              "      <td>0</td>\n",
              "      <td>0</td>\n",
              "      <td>37.00</td>\n",
              "      <td>Appartement</td>\n",
              "      <td>Paris 18√®me</td>\n",
              "      <td>(58999.999, 494800.0]</td>\n",
              "      <td>37.00</td>\n",
              "    </tr>\n",
              "    <tr>\n",
              "      <th>3</th>\n",
              "      <td>16</td>\n",
              "      <td>750110</td>\n",
              "      <td>75010</td>\n",
              "      <td>75010</td>\n",
              "      <td>0</td>\n",
              "      <td>12089</td>\n",
              "      <td>149750679</td>\n",
              "      <td>3765</td>\n",
              "      <td>0</td>\n",
              "      <td>0</td>\n",
              "      <td>...</td>\n",
              "      <td>16</td>\n",
              "      <td>96000</td>\n",
              "      <td>0</td>\n",
              "      <td>0</td>\n",
              "      <td>0</td>\n",
              "      <td>10.26</td>\n",
              "      <td>Appartement</td>\n",
              "      <td>Paris 10√®me</td>\n",
              "      <td>(58999.999, 494800.0]</td>\n",
              "      <td>20.52</td>\n",
              "    </tr>\n",
              "    <tr>\n",
              "      <th>4</th>\n",
              "      <td>4</td>\n",
              "      <td>750116</td>\n",
              "      <td>75016</td>\n",
              "      <td>75016</td>\n",
              "      <td>0</td>\n",
              "      <td>97567</td>\n",
              "      <td>147153067</td>\n",
              "      <td>145098</td>\n",
              "      <td>0</td>\n",
              "      <td>0</td>\n",
              "      <td>...</td>\n",
              "      <td>4</td>\n",
              "      <td>100000</td>\n",
              "      <td>0</td>\n",
              "      <td>0</td>\n",
              "      <td>0</td>\n",
              "      <td>14.93</td>\n",
              "      <td>Appartement</td>\n",
              "      <td>Paris 16√®me</td>\n",
              "      <td>(58999.999, 494800.0]</td>\n",
              "      <td>14.93</td>\n",
              "    </tr>\n",
              "  </tbody>\n",
              "</table>\n",
              "<p>5 rows × 26 columns</p>\n",
              "</div>\n",
              "      <button class=\"colab-df-convert\" onclick=\"convertToInteractive('df-417b080a-2431-4ddd-94f7-880de7bbee32')\"\n",
              "              title=\"Convert this dataframe to an interactive table.\"\n",
              "              style=\"display:none;\">\n",
              "        \n",
              "  <svg xmlns=\"http://www.w3.org/2000/svg\" height=\"24px\"viewBox=\"0 0 24 24\"\n",
              "       width=\"24px\">\n",
              "    <path d=\"M0 0h24v24H0V0z\" fill=\"none\"/>\n",
              "    <path d=\"M18.56 5.44l.94 2.06.94-2.06 2.06-.94-2.06-.94-.94-2.06-.94 2.06-2.06.94zm-11 1L8.5 8.5l.94-2.06 2.06-.94-2.06-.94L8.5 2.5l-.94 2.06-2.06.94zm10 10l.94 2.06.94-2.06 2.06-.94-2.06-.94-.94-2.06-.94 2.06-2.06.94z\"/><path d=\"M17.41 7.96l-1.37-1.37c-.4-.4-.92-.59-1.43-.59-.52 0-1.04.2-1.43.59L10.3 9.45l-7.72 7.72c-.78.78-.78 2.05 0 2.83L4 21.41c.39.39.9.59 1.41.59.51 0 1.02-.2 1.41-.59l7.78-7.78 2.81-2.81c.8-.78.8-2.07 0-2.86zM5.41 20L4 18.59l7.72-7.72 1.47 1.35L5.41 20z\"/>\n",
              "  </svg>\n",
              "      </button>\n",
              "      \n",
              "  <style>\n",
              "    .colab-df-container {\n",
              "      display:flex;\n",
              "      flex-wrap:wrap;\n",
              "      gap: 12px;\n",
              "    }\n",
              "\n",
              "    .colab-df-convert {\n",
              "      background-color: #E8F0FE;\n",
              "      border: none;\n",
              "      border-radius: 50%;\n",
              "      cursor: pointer;\n",
              "      display: none;\n",
              "      fill: #1967D2;\n",
              "      height: 32px;\n",
              "      padding: 0 0 0 0;\n",
              "      width: 32px;\n",
              "    }\n",
              "\n",
              "    .colab-df-convert:hover {\n",
              "      background-color: #E2EBFA;\n",
              "      box-shadow: 0px 1px 2px rgba(60, 64, 67, 0.3), 0px 1px 3px 1px rgba(60, 64, 67, 0.15);\n",
              "      fill: #174EA6;\n",
              "    }\n",
              "\n",
              "    [theme=dark] .colab-df-convert {\n",
              "      background-color: #3B4455;\n",
              "      fill: #D2E3FC;\n",
              "    }\n",
              "\n",
              "    [theme=dark] .colab-df-convert:hover {\n",
              "      background-color: #434B5C;\n",
              "      box-shadow: 0px 1px 3px 1px rgba(0, 0, 0, 0.15);\n",
              "      filter: drop-shadow(0px 1px 2px rgba(0, 0, 0, 0.3));\n",
              "      fill: #FFFFFF;\n",
              "    }\n",
              "  </style>\n",
              "\n",
              "      <script>\n",
              "        const buttonEl =\n",
              "          document.querySelector('#df-417b080a-2431-4ddd-94f7-880de7bbee32 button.colab-df-convert');\n",
              "        buttonEl.style.display =\n",
              "          google.colab.kernel.accessAllowed ? 'block' : 'none';\n",
              "\n",
              "        async function convertToInteractive(key) {\n",
              "          const element = document.querySelector('#df-417b080a-2431-4ddd-94f7-880de7bbee32');\n",
              "          const dataTable =\n",
              "            await google.colab.kernel.invokeFunction('convertToInteractive',\n",
              "                                                     [key], {});\n",
              "          if (!dataTable) return;\n",
              "\n",
              "          const docLinkHtml = 'Like what you see? Visit the ' +\n",
              "            '<a target=\"_blank\" href=https://colab.research.google.com/notebooks/data_table.ipynb>data table notebook</a>'\n",
              "            + ' to learn more about interactive tables.';\n",
              "          element.innerHTML = '';\n",
              "          dataTable['output_type'] = 'display_data';\n",
              "          await google.colab.output.renderOutput(dataTable, element);\n",
              "          const docLink = document.createElement('div');\n",
              "          docLink.innerHTML = docLinkHtml;\n",
              "          element.appendChild(docLink);\n",
              "        }\n",
              "      </script>\n",
              "    </div>\n",
              "  </div>\n",
              "  "
            ]
          },
          "metadata": {},
          "execution_count": 44
        }
      ]
    },
    {
      "cell_type": "code",
      "metadata": {
        "colab": {
          "base_uri": "https://localhost:8080/"
        },
        "id": "9mnMMmp2LDtW",
        "outputId": "d92b4a74-4f84-451c-f113-4e8d44e0d995"
      },
      "source": [
        "formula = 'prix ~ 100 + nb_chambres + surfrooms'\n",
        "results2 = smf.ols(formula, apartments).fit()\n",
        "print(results2.summary())"
      ],
      "execution_count": null,
      "outputs": [
        {
          "output_type": "stream",
          "name": "stdout",
          "text": [
            "                            OLS Regression Results                            \n",
            "==============================================================================\n",
            "Dep. Variable:                   prix   R-squared:                       0.664\n",
            "Model:                            OLS   Adj. R-squared:                  0.663\n",
            "Method:                 Least Squares   F-statistic:                     5847.\n",
            "Date:                Wed, 27 Apr 2022   Prob (F-statistic):               0.00\n",
            "Time:                        11:03:24   Log-Likelihood:            -1.2354e+05\n",
            "No. Observations:                8899   AIC:                         2.471e+05\n",
            "Df Residuals:                    8895   BIC:                         2.471e+05\n",
            "Df Model:                           3                                         \n",
            "Covariance Type:            nonrobust                                         \n",
            "===============================================================================\n",
            "                  coef    std err          t      P>|t|      [0.025      0.975]\n",
            "-------------------------------------------------------------------------------\n",
            "Intercept   -5.875e+04    1.7e+04     -3.454      0.001   -9.21e+04   -2.54e+04\n",
            "surface      1.677e+04    185.154     90.558      0.000    1.64e+04    1.71e+04\n",
            "nb_chambres  6.543e+04   9626.520      6.797      0.000    4.66e+04    8.43e+04\n",
            "surfrooms   -1909.4188     70.468    -27.096      0.000   -2047.552   -1771.286\n",
            "==============================================================================\n",
            "Omnibus:                      220.319   Durbin-Watson:                   0.928\n",
            "Prob(Omnibus):                  0.000   Jarque-Bera (JB):              442.001\n",
            "Skew:                          -0.156   Prob(JB):                     1.05e-96\n",
            "Kurtosis:                       4.047   Cond. No.                     2.39e+03\n",
            "==============================================================================\n",
            "\n",
            "Warnings:\n",
            "[1] Standard Errors assume that the covariance matrix of the errors is correctly specified.\n",
            "[2] The condition number is large, 2.39e+03. This might indicate that there are\n",
            "strong multicollinearity or other numerical problems.\n"
          ]
        }
      ]
    },
    {
      "cell_type": "markdown",
      "metadata": {
        "id": "qcKf792Lo7cz"
      },
      "source": [
        "#**STEP 5: Prediction Machine**"
      ]
    },
    {
      "cell_type": "markdown",
      "metadata": {
        "id": "kworwlcoSJpZ"
      },
      "source": [
        "One of the great advantages beyond estimation and interpreation of regression models, is the ease to make predictions.\n",
        "\n",
        "Your job is to price two apartments, based on the first multiple regression output. The first apartment to price is 100 square meters large and has two bedrooms. The second apartment has 250 square meters and 5 bedrooms.\n",
        "\n"
      ]
    },
    {
      "cell_type": "markdown",
      "metadata": {
        "id": "3tL0TsZLUBLH"
      },
      "source": [
        "**Questions for you**"
      ]
    },
    {
      "cell_type": "markdown",
      "metadata": {
        "id": "CBKjhOT9UA2a"
      },
      "source": [
        "Question 1: Your task is to give a predicted price for both apartments. \n",
        "\n",
        "Question 2: I would like you to explain which, according to you, of the two apartments is easier to price.\n",
        "\n",
        "Question 3: How could you improve further your prediction machine given the information in the dataset?\n"
      ]
    },
    {
      "cell_type": "markdown",
      "metadata": {
        "id": "hv6x1vK6gtuA"
      },
      "source": [
        "HINT: To print the detailed estimates to make predictions"
      ]
    },
    {
      "cell_type": "code",
      "metadata": {
        "id": "97dA3aQ_f-TA",
        "colab": {
          "base_uri": "https://localhost:8080/"
        },
        "outputId": "9c093c27-8a87-426c-fd0c-46d812a938a8"
      },
      "source": [
        "print(results.params)"
      ],
      "execution_count": null,
      "outputs": [
        {
          "output_type": "stream",
          "name": "stdout",
          "text": [
            "Intercept      355608.070246\n",
            "surface         13021.102200\n",
            "nb_chambres   -170883.401864\n",
            "dtype: float64\n"
          ]
        }
      ]
    }
  ]
}